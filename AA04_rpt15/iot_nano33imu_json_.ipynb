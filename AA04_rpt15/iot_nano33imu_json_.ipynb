{
  "nbformat": 4,
  "nbformat_minor": 0,
  "metadata": {
    "colab": {
      "provenance": []
    },
    "kernelspec": {
      "display_name": "Python 3",
      "name": "python3"
    },
    "language_info": {
      "codemirror_mode": {
        "name": "ipython",
        "version": 3
      },
      "file_extension": ".py",
      "mimetype": "text/x-python",
      "name": "python",
      "nbconvert_exporter": "python",
      "pygments_lexer": "ipython3",
      "version": "3.8.5"
    }
  },
  "cells": [
    {
      "cell_type": "markdown",
      "metadata": {
        "id": "oYht3IoGwlyU"
      },
      "source": [
        "## Pandas: access to the remote json from MongoDB\n",
        "- The json file is generated on the fly from the express server of Node.js.\n",
        "- The data stored in MongoDB are saved in the json file.\n",
        "- The IMU data are composed of nine time series; acceleration, gyroscope, and magnetic field.\n"
      ]
    },
    {
      "cell_type": "code",
      "metadata": {
        "id": "GYezm0oWwlyW"
      },
      "source": [
        "import pandas as pd\n",
        "import numpy as np\n",
        "import matplotlib.pyplot as plt\n",
        "# from matplotlib import animation, rc"
      ],
      "execution_count": null,
      "outputs": []
    },
    {
      "cell_type": "markdown",
      "metadata": {
        "id": "1xQdk1RkeFpY"
      },
      "source": [
        "## [실시간 데이터 로드]\n",
        "- loading real-time json file from MongoDB via web\n",
        "\n",
        "- http://life21c.inje.ac.kr:3030/client_33imu_gauge.html"
      ]
    },
    {
      "cell_type": "code",
      "metadata": {
        "id": "jguBydRLwlyc",
        "colab": {
          "base_uri": "https://localhost:8080/"
        },
        "outputId": "88713198-d7cb-4912-eac4-daad967b55e1"
      },
      "source": [
        "# loading real-time json file from MongoDB via web (CORS, port=3030)\n",
        "url=\"http://life21c.inje.ac.kr:3030/iot\"\n",
        "df=pd.read_json(url)\n",
        "print('Large IoT data was retrieved successfully from MongoDB!')"
      ],
      "execution_count": null,
      "outputs": [
        {
          "output_type": "stream",
          "name": "stdout",
          "text": [
            "Large IoT data was retrieved successfully from MongoDB!\n"
          ]
        }
      ]
    },
    {
      "cell_type": "code",
      "source": [
        "df.head()"
      ],
      "metadata": {
        "id": "NzUlB5YECVfm",
        "outputId": "9d104eaa-5425-4a2d-81df-b6ca4e56c5e7",
        "colab": {
          "base_uri": "https://localhost:8080/",
          "height": 206
        }
      },
      "execution_count": null,
      "outputs": [
        {
          "output_type": "execute_result",
          "data": {
            "text/plain": [
              "                        _id                    date  accel_x  accel_y  \\\n",
              "0  639a7a5d2f1ab8f42ac826c8 2022-12-15 10:37:33.724     0.03    -0.01   \n",
              "1  639a7a5e2f1ab8f42ac826ca 2022-12-15 10:37:34.233     0.03    -0.01   \n",
              "2  639a7a5e2f1ab8f42ac826cc 2022-12-15 10:37:34.742     0.03    -0.01   \n",
              "3  639a7a5f2f1ab8f42ac826ce 2022-12-15 10:37:35.251     0.03    -0.01   \n",
              "4  639a7a5f2f1ab8f42ac826d0 2022-12-15 10:37:35.760     0.03    -0.01   \n",
              "\n",
              "   accel_z  gyro_x  gyro_y  gyro_z  mag_x  mag_y  mag_z  __v  \n",
              "0     0.99   -0.18   -3.54   -0.31 -12.12  16.19 -42.16    0  \n",
              "1     0.99   -0.24   -3.60   -0.24 -11.82  16.52 -41.88    0  \n",
              "2     0.99   -0.06   -3.54   -0.24 -12.05  16.16 -41.75    0  \n",
              "3     0.99   -0.24   -3.48   -0.31 -12.06  16.21 -41.61    0  \n",
              "4     0.99   -0.24   -3.54   -0.31 -12.00  16.31 -42.70    0  "
            ],
            "text/html": [
              "\n",
              "  <div id=\"df-ee7f5c98-404b-4343-b4a8-7c6442ba7c3f\">\n",
              "    <div class=\"colab-df-container\">\n",
              "      <div>\n",
              "<style scoped>\n",
              "    .dataframe tbody tr th:only-of-type {\n",
              "        vertical-align: middle;\n",
              "    }\n",
              "\n",
              "    .dataframe tbody tr th {\n",
              "        vertical-align: top;\n",
              "    }\n",
              "\n",
              "    .dataframe thead th {\n",
              "        text-align: right;\n",
              "    }\n",
              "</style>\n",
              "<table border=\"1\" class=\"dataframe\">\n",
              "  <thead>\n",
              "    <tr style=\"text-align: right;\">\n",
              "      <th></th>\n",
              "      <th>_id</th>\n",
              "      <th>date</th>\n",
              "      <th>accel_x</th>\n",
              "      <th>accel_y</th>\n",
              "      <th>accel_z</th>\n",
              "      <th>gyro_x</th>\n",
              "      <th>gyro_y</th>\n",
              "      <th>gyro_z</th>\n",
              "      <th>mag_x</th>\n",
              "      <th>mag_y</th>\n",
              "      <th>mag_z</th>\n",
              "      <th>__v</th>\n",
              "    </tr>\n",
              "  </thead>\n",
              "  <tbody>\n",
              "    <tr>\n",
              "      <th>0</th>\n",
              "      <td>639a7a5d2f1ab8f42ac826c8</td>\n",
              "      <td>2022-12-15 10:37:33.724</td>\n",
              "      <td>0.03</td>\n",
              "      <td>-0.01</td>\n",
              "      <td>0.99</td>\n",
              "      <td>-0.18</td>\n",
              "      <td>-3.54</td>\n",
              "      <td>-0.31</td>\n",
              "      <td>-12.12</td>\n",
              "      <td>16.19</td>\n",
              "      <td>-42.16</td>\n",
              "      <td>0</td>\n",
              "    </tr>\n",
              "    <tr>\n",
              "      <th>1</th>\n",
              "      <td>639a7a5e2f1ab8f42ac826ca</td>\n",
              "      <td>2022-12-15 10:37:34.233</td>\n",
              "      <td>0.03</td>\n",
              "      <td>-0.01</td>\n",
              "      <td>0.99</td>\n",
              "      <td>-0.24</td>\n",
              "      <td>-3.60</td>\n",
              "      <td>-0.24</td>\n",
              "      <td>-11.82</td>\n",
              "      <td>16.52</td>\n",
              "      <td>-41.88</td>\n",
              "      <td>0</td>\n",
              "    </tr>\n",
              "    <tr>\n",
              "      <th>2</th>\n",
              "      <td>639a7a5e2f1ab8f42ac826cc</td>\n",
              "      <td>2022-12-15 10:37:34.742</td>\n",
              "      <td>0.03</td>\n",
              "      <td>-0.01</td>\n",
              "      <td>0.99</td>\n",
              "      <td>-0.06</td>\n",
              "      <td>-3.54</td>\n",
              "      <td>-0.24</td>\n",
              "      <td>-12.05</td>\n",
              "      <td>16.16</td>\n",
              "      <td>-41.75</td>\n",
              "      <td>0</td>\n",
              "    </tr>\n",
              "    <tr>\n",
              "      <th>3</th>\n",
              "      <td>639a7a5f2f1ab8f42ac826ce</td>\n",
              "      <td>2022-12-15 10:37:35.251</td>\n",
              "      <td>0.03</td>\n",
              "      <td>-0.01</td>\n",
              "      <td>0.99</td>\n",
              "      <td>-0.24</td>\n",
              "      <td>-3.48</td>\n",
              "      <td>-0.31</td>\n",
              "      <td>-12.06</td>\n",
              "      <td>16.21</td>\n",
              "      <td>-41.61</td>\n",
              "      <td>0</td>\n",
              "    </tr>\n",
              "    <tr>\n",
              "      <th>4</th>\n",
              "      <td>639a7a5f2f1ab8f42ac826d0</td>\n",
              "      <td>2022-12-15 10:37:35.760</td>\n",
              "      <td>0.03</td>\n",
              "      <td>-0.01</td>\n",
              "      <td>0.99</td>\n",
              "      <td>-0.24</td>\n",
              "      <td>-3.54</td>\n",
              "      <td>-0.31</td>\n",
              "      <td>-12.00</td>\n",
              "      <td>16.31</td>\n",
              "      <td>-42.70</td>\n",
              "      <td>0</td>\n",
              "    </tr>\n",
              "  </tbody>\n",
              "</table>\n",
              "</div>\n",
              "      <button class=\"colab-df-convert\" onclick=\"convertToInteractive('df-ee7f5c98-404b-4343-b4a8-7c6442ba7c3f')\"\n",
              "              title=\"Convert this dataframe to an interactive table.\"\n",
              "              style=\"display:none;\">\n",
              "        \n",
              "  <svg xmlns=\"http://www.w3.org/2000/svg\" height=\"24px\"viewBox=\"0 0 24 24\"\n",
              "       width=\"24px\">\n",
              "    <path d=\"M0 0h24v24H0V0z\" fill=\"none\"/>\n",
              "    <path d=\"M18.56 5.44l.94 2.06.94-2.06 2.06-.94-2.06-.94-.94-2.06-.94 2.06-2.06.94zm-11 1L8.5 8.5l.94-2.06 2.06-.94-2.06-.94L8.5 2.5l-.94 2.06-2.06.94zm10 10l.94 2.06.94-2.06 2.06-.94-2.06-.94-.94-2.06-.94 2.06-2.06.94z\"/><path d=\"M17.41 7.96l-1.37-1.37c-.4-.4-.92-.59-1.43-.59-.52 0-1.04.2-1.43.59L10.3 9.45l-7.72 7.72c-.78.78-.78 2.05 0 2.83L4 21.41c.39.39.9.59 1.41.59.51 0 1.02-.2 1.41-.59l7.78-7.78 2.81-2.81c.8-.78.8-2.07 0-2.86zM5.41 20L4 18.59l7.72-7.72 1.47 1.35L5.41 20z\"/>\n",
              "  </svg>\n",
              "      </button>\n",
              "      \n",
              "  <style>\n",
              "    .colab-df-container {\n",
              "      display:flex;\n",
              "      flex-wrap:wrap;\n",
              "      gap: 12px;\n",
              "    }\n",
              "\n",
              "    .colab-df-convert {\n",
              "      background-color: #E8F0FE;\n",
              "      border: none;\n",
              "      border-radius: 50%;\n",
              "      cursor: pointer;\n",
              "      display: none;\n",
              "      fill: #1967D2;\n",
              "      height: 32px;\n",
              "      padding: 0 0 0 0;\n",
              "      width: 32px;\n",
              "    }\n",
              "\n",
              "    .colab-df-convert:hover {\n",
              "      background-color: #E2EBFA;\n",
              "      box-shadow: 0px 1px 2px rgba(60, 64, 67, 0.3), 0px 1px 3px 1px rgba(60, 64, 67, 0.15);\n",
              "      fill: #174EA6;\n",
              "    }\n",
              "\n",
              "    [theme=dark] .colab-df-convert {\n",
              "      background-color: #3B4455;\n",
              "      fill: #D2E3FC;\n",
              "    }\n",
              "\n",
              "    [theme=dark] .colab-df-convert:hover {\n",
              "      background-color: #434B5C;\n",
              "      box-shadow: 0px 1px 3px 1px rgba(0, 0, 0, 0.15);\n",
              "      filter: drop-shadow(0px 1px 2px rgba(0, 0, 0, 0.3));\n",
              "      fill: #FFFFFF;\n",
              "    }\n",
              "  </style>\n",
              "\n",
              "      <script>\n",
              "        const buttonEl =\n",
              "          document.querySelector('#df-ee7f5c98-404b-4343-b4a8-7c6442ba7c3f button.colab-df-convert');\n",
              "        buttonEl.style.display =\n",
              "          google.colab.kernel.accessAllowed ? 'block' : 'none';\n",
              "\n",
              "        async function convertToInteractive(key) {\n",
              "          const element = document.querySelector('#df-ee7f5c98-404b-4343-b4a8-7c6442ba7c3f');\n",
              "          const dataTable =\n",
              "            await google.colab.kernel.invokeFunction('convertToInteractive',\n",
              "                                                     [key], {});\n",
              "          if (!dataTable) return;\n",
              "\n",
              "          const docLinkHtml = 'Like what you see? Visit the ' +\n",
              "            '<a target=\"_blank\" href=https://colab.research.google.com/notebooks/data_table.ipynb>data table notebook</a>'\n",
              "            + ' to learn more about interactive tables.';\n",
              "          element.innerHTML = '';\n",
              "          dataTable['output_type'] = 'display_data';\n",
              "          await google.colab.output.renderOutput(dataTable, element);\n",
              "          const docLink = document.createElement('div');\n",
              "          docLink.innerHTML = docLinkHtml;\n",
              "          element.appendChild(docLink);\n",
              "        }\n",
              "      </script>\n",
              "    </div>\n",
              "  </div>\n",
              "  "
            ]
          },
          "metadata": {},
          "execution_count": 3
        }
      ]
    },
    {
      "cell_type": "code",
      "metadata": {
        "colab": {
          "base_uri": "https://localhost:8080/",
          "height": 206
        },
        "id": "Qz0XxhI4wlyn",
        "outputId": "eb46a066-2299-4470-973d-bc1489989cf4"
      },
      "source": [
        "df.tail()"
      ],
      "execution_count": null,
      "outputs": [
        {
          "output_type": "execute_result",
          "data": {
            "text/plain": [
              "                            _id                    date  accel_x  accel_y  \\\n",
              "31595  639ab9662eb916f872310ee4 2022-12-15 15:06:30.154     0.03    -0.00   \n",
              "31596  639ab9662eb916f872310ee6 2022-12-15 15:06:30.663     0.04    -0.00   \n",
              "31597  639ab9672eb916f872310ee8 2022-12-15 15:06:31.172     0.03    -0.00   \n",
              "31598  639ab9672eb916f872310eea 2022-12-15 15:06:31.681     0.03    -0.00   \n",
              "31599  639ab9682eb916f872310eec 2022-12-15 15:06:32.190     0.03    -0.01   \n",
              "\n",
              "       accel_z  gyro_x  gyro_y  gyro_z  mag_x  mag_y  mag_z  __v  \n",
              "31595     0.99   -0.31   -3.60   -0.31 -11.49  -1.59 -55.25    0  \n",
              "31596     0.99   -0.37   -3.48   -0.31 -11.65  -2.29 -54.85    0  \n",
              "31597     0.99   -0.24   -3.66   -0.24 -11.79  -1.44 -55.42    0  \n",
              "31598     0.99   -0.37   -3.66   -0.37 -11.82  -0.73 -55.91    0  \n",
              "31599     0.99   -0.31   -3.54   -0.31 -11.71  -1.72 -55.15    0  "
            ],
            "text/html": [
              "\n",
              "  <div id=\"df-00652cab-6392-412c-a5b4-3058ebe36f62\">\n",
              "    <div class=\"colab-df-container\">\n",
              "      <div>\n",
              "<style scoped>\n",
              "    .dataframe tbody tr th:only-of-type {\n",
              "        vertical-align: middle;\n",
              "    }\n",
              "\n",
              "    .dataframe tbody tr th {\n",
              "        vertical-align: top;\n",
              "    }\n",
              "\n",
              "    .dataframe thead th {\n",
              "        text-align: right;\n",
              "    }\n",
              "</style>\n",
              "<table border=\"1\" class=\"dataframe\">\n",
              "  <thead>\n",
              "    <tr style=\"text-align: right;\">\n",
              "      <th></th>\n",
              "      <th>_id</th>\n",
              "      <th>date</th>\n",
              "      <th>accel_x</th>\n",
              "      <th>accel_y</th>\n",
              "      <th>accel_z</th>\n",
              "      <th>gyro_x</th>\n",
              "      <th>gyro_y</th>\n",
              "      <th>gyro_z</th>\n",
              "      <th>mag_x</th>\n",
              "      <th>mag_y</th>\n",
              "      <th>mag_z</th>\n",
              "      <th>__v</th>\n",
              "    </tr>\n",
              "  </thead>\n",
              "  <tbody>\n",
              "    <tr>\n",
              "      <th>31595</th>\n",
              "      <td>639ab9662eb916f872310ee4</td>\n",
              "      <td>2022-12-15 15:06:30.154</td>\n",
              "      <td>0.03</td>\n",
              "      <td>-0.00</td>\n",
              "      <td>0.99</td>\n",
              "      <td>-0.31</td>\n",
              "      <td>-3.60</td>\n",
              "      <td>-0.31</td>\n",
              "      <td>-11.49</td>\n",
              "      <td>-1.59</td>\n",
              "      <td>-55.25</td>\n",
              "      <td>0</td>\n",
              "    </tr>\n",
              "    <tr>\n",
              "      <th>31596</th>\n",
              "      <td>639ab9662eb916f872310ee6</td>\n",
              "      <td>2022-12-15 15:06:30.663</td>\n",
              "      <td>0.04</td>\n",
              "      <td>-0.00</td>\n",
              "      <td>0.99</td>\n",
              "      <td>-0.37</td>\n",
              "      <td>-3.48</td>\n",
              "      <td>-0.31</td>\n",
              "      <td>-11.65</td>\n",
              "      <td>-2.29</td>\n",
              "      <td>-54.85</td>\n",
              "      <td>0</td>\n",
              "    </tr>\n",
              "    <tr>\n",
              "      <th>31597</th>\n",
              "      <td>639ab9672eb916f872310ee8</td>\n",
              "      <td>2022-12-15 15:06:31.172</td>\n",
              "      <td>0.03</td>\n",
              "      <td>-0.00</td>\n",
              "      <td>0.99</td>\n",
              "      <td>-0.24</td>\n",
              "      <td>-3.66</td>\n",
              "      <td>-0.24</td>\n",
              "      <td>-11.79</td>\n",
              "      <td>-1.44</td>\n",
              "      <td>-55.42</td>\n",
              "      <td>0</td>\n",
              "    </tr>\n",
              "    <tr>\n",
              "      <th>31598</th>\n",
              "      <td>639ab9672eb916f872310eea</td>\n",
              "      <td>2022-12-15 15:06:31.681</td>\n",
              "      <td>0.03</td>\n",
              "      <td>-0.00</td>\n",
              "      <td>0.99</td>\n",
              "      <td>-0.37</td>\n",
              "      <td>-3.66</td>\n",
              "      <td>-0.37</td>\n",
              "      <td>-11.82</td>\n",
              "      <td>-0.73</td>\n",
              "      <td>-55.91</td>\n",
              "      <td>0</td>\n",
              "    </tr>\n",
              "    <tr>\n",
              "      <th>31599</th>\n",
              "      <td>639ab9682eb916f872310eec</td>\n",
              "      <td>2022-12-15 15:06:32.190</td>\n",
              "      <td>0.03</td>\n",
              "      <td>-0.01</td>\n",
              "      <td>0.99</td>\n",
              "      <td>-0.31</td>\n",
              "      <td>-3.54</td>\n",
              "      <td>-0.31</td>\n",
              "      <td>-11.71</td>\n",
              "      <td>-1.72</td>\n",
              "      <td>-55.15</td>\n",
              "      <td>0</td>\n",
              "    </tr>\n",
              "  </tbody>\n",
              "</table>\n",
              "</div>\n",
              "      <button class=\"colab-df-convert\" onclick=\"convertToInteractive('df-00652cab-6392-412c-a5b4-3058ebe36f62')\"\n",
              "              title=\"Convert this dataframe to an interactive table.\"\n",
              "              style=\"display:none;\">\n",
              "        \n",
              "  <svg xmlns=\"http://www.w3.org/2000/svg\" height=\"24px\"viewBox=\"0 0 24 24\"\n",
              "       width=\"24px\">\n",
              "    <path d=\"M0 0h24v24H0V0z\" fill=\"none\"/>\n",
              "    <path d=\"M18.56 5.44l.94 2.06.94-2.06 2.06-.94-2.06-.94-.94-2.06-.94 2.06-2.06.94zm-11 1L8.5 8.5l.94-2.06 2.06-.94-2.06-.94L8.5 2.5l-.94 2.06-2.06.94zm10 10l.94 2.06.94-2.06 2.06-.94-2.06-.94-.94-2.06-.94 2.06-2.06.94z\"/><path d=\"M17.41 7.96l-1.37-1.37c-.4-.4-.92-.59-1.43-.59-.52 0-1.04.2-1.43.59L10.3 9.45l-7.72 7.72c-.78.78-.78 2.05 0 2.83L4 21.41c.39.39.9.59 1.41.59.51 0 1.02-.2 1.41-.59l7.78-7.78 2.81-2.81c.8-.78.8-2.07 0-2.86zM5.41 20L4 18.59l7.72-7.72 1.47 1.35L5.41 20z\"/>\n",
              "  </svg>\n",
              "      </button>\n",
              "      \n",
              "  <style>\n",
              "    .colab-df-container {\n",
              "      display:flex;\n",
              "      flex-wrap:wrap;\n",
              "      gap: 12px;\n",
              "    }\n",
              "\n",
              "    .colab-df-convert {\n",
              "      background-color: #E8F0FE;\n",
              "      border: none;\n",
              "      border-radius: 50%;\n",
              "      cursor: pointer;\n",
              "      display: none;\n",
              "      fill: #1967D2;\n",
              "      height: 32px;\n",
              "      padding: 0 0 0 0;\n",
              "      width: 32px;\n",
              "    }\n",
              "\n",
              "    .colab-df-convert:hover {\n",
              "      background-color: #E2EBFA;\n",
              "      box-shadow: 0px 1px 2px rgba(60, 64, 67, 0.3), 0px 1px 3px 1px rgba(60, 64, 67, 0.15);\n",
              "      fill: #174EA6;\n",
              "    }\n",
              "\n",
              "    [theme=dark] .colab-df-convert {\n",
              "      background-color: #3B4455;\n",
              "      fill: #D2E3FC;\n",
              "    }\n",
              "\n",
              "    [theme=dark] .colab-df-convert:hover {\n",
              "      background-color: #434B5C;\n",
              "      box-shadow: 0px 1px 3px 1px rgba(0, 0, 0, 0.15);\n",
              "      filter: drop-shadow(0px 1px 2px rgba(0, 0, 0, 0.3));\n",
              "      fill: #FFFFFF;\n",
              "    }\n",
              "  </style>\n",
              "\n",
              "      <script>\n",
              "        const buttonEl =\n",
              "          document.querySelector('#df-00652cab-6392-412c-a5b4-3058ebe36f62 button.colab-df-convert');\n",
              "        buttonEl.style.display =\n",
              "          google.colab.kernel.accessAllowed ? 'block' : 'none';\n",
              "\n",
              "        async function convertToInteractive(key) {\n",
              "          const element = document.querySelector('#df-00652cab-6392-412c-a5b4-3058ebe36f62');\n",
              "          const dataTable =\n",
              "            await google.colab.kernel.invokeFunction('convertToInteractive',\n",
              "                                                     [key], {});\n",
              "          if (!dataTable) return;\n",
              "\n",
              "          const docLinkHtml = 'Like what you see? Visit the ' +\n",
              "            '<a target=\"_blank\" href=https://colab.research.google.com/notebooks/data_table.ipynb>data table notebook</a>'\n",
              "            + ' to learn more about interactive tables.';\n",
              "          element.innerHTML = '';\n",
              "          dataTable['output_type'] = 'display_data';\n",
              "          await google.colab.output.renderOutput(dataTable, element);\n",
              "          const docLink = document.createElement('div');\n",
              "          docLink.innerHTML = docLinkHtml;\n",
              "          element.appendChild(docLink);\n",
              "        }\n",
              "      </script>\n",
              "    </div>\n",
              "  </div>\n",
              "  "
            ]
          },
          "metadata": {},
          "execution_count": 4
        }
      ]
    },
    {
      "cell_type": "code",
      "metadata": {
        "colab": {
          "base_uri": "https://localhost:8080/"
        },
        "id": "xu5T5omfwlys",
        "outputId": "110237f3-b18e-4386-af30-30b6ddf703a6"
      },
      "source": [
        "df.shape, type(df)"
      ],
      "execution_count": null,
      "outputs": [
        {
          "output_type": "execute_result",
          "data": {
            "text/plain": [
              "((31600, 12), pandas.core.frame.DataFrame)"
            ]
          },
          "metadata": {},
          "execution_count": 5
        }
      ]
    },
    {
      "cell_type": "code",
      "metadata": {
        "colab": {
          "base_uri": "https://localhost:8080/"
        },
        "id": "IGr_hz20Il9L",
        "outputId": "2471cd20-b8ba-4e63-a3b8-a4cd13419955"
      },
      "source": [
        "df['date'][:1],df['date'][-1:]"
      ],
      "execution_count": null,
      "outputs": [
        {
          "output_type": "execute_result",
          "data": {
            "text/plain": [
              "(0   2022-12-15 10:37:33.724\n",
              " Name: date, dtype: datetime64[ns], 31599   2022-12-15 15:06:32.190\n",
              " Name: date, dtype: datetime64[ns])"
            ]
          },
          "metadata": {},
          "execution_count": 6
        }
      ]
    },
    {
      "cell_type": "code",
      "metadata": {
        "colab": {
          "base_uri": "https://localhost:8080/"
        },
        "id": "Ba7jYmgKwlyx",
        "outputId": "c73f7e2e-4fbc-425b-d336-67d92155b911"
      },
      "source": [
        "df.info()"
      ],
      "execution_count": null,
      "outputs": [
        {
          "output_type": "stream",
          "name": "stdout",
          "text": [
            "<class 'pandas.core.frame.DataFrame'>\n",
            "RangeIndex: 31600 entries, 0 to 31599\n",
            "Data columns (total 12 columns):\n",
            " #   Column   Non-Null Count  Dtype         \n",
            "---  ------   --------------  -----         \n",
            " 0   _id      31600 non-null  object        \n",
            " 1   date     31600 non-null  datetime64[ns]\n",
            " 2   accel_x  31600 non-null  float64       \n",
            " 3   accel_y  31600 non-null  float64       \n",
            " 4   accel_z  31600 non-null  float64       \n",
            " 5   gyro_x   31600 non-null  float64       \n",
            " 6   gyro_y   31600 non-null  float64       \n",
            " 7   gyro_z   31600 non-null  float64       \n",
            " 8   mag_x    31600 non-null  float64       \n",
            " 9   mag_y    31600 non-null  float64       \n",
            " 10  mag_z    31600 non-null  float64       \n",
            " 11  __v      31600 non-null  int64         \n",
            "dtypes: datetime64[ns](1), float64(9), int64(1), object(1)\n",
            "memory usage: 2.9+ MB\n"
          ]
        }
      ]
    },
    {
      "cell_type": "code",
      "metadata": {
        "colab": {
          "base_uri": "https://localhost:8080/",
          "height": 300
        },
        "id": "6VGEIgiEydOV",
        "outputId": "b94dd86d-76a4-49bf-dcd7-1d3bc47d50c6"
      },
      "source": [
        "df.describe()"
      ],
      "execution_count": null,
      "outputs": [
        {
          "output_type": "execute_result",
          "data": {
            "text/plain": [
              "            accel_x       accel_y       accel_z        gyro_x        gyro_y  \\\n",
              "count  31600.000000  31600.000000  31600.000000  31600.000000  31600.000000   \n",
              "mean      -0.006863     -0.003522      0.940492     -0.027985     -3.224891   \n",
              "std        0.225962      0.153295      0.233296     44.427522     36.653543   \n",
              "min       -2.900000     -2.250000     -1.600000   -909.550000   -613.160000   \n",
              "25%        0.010000     -0.010000      0.990000     -0.310000     -3.600000   \n",
              "50%        0.030000     -0.000000      0.990000     -0.240000     -3.540000   \n",
              "75%        0.030000      0.000000      0.990000     -0.180000     -3.420000   \n",
              "max        1.400000      1.680000      2.510000   1258.610000    663.150000   \n",
              "\n",
              "             gyro_z         mag_x         mag_y         mag_z      __v  \n",
              "count  31600.000000  31600.000000  31600.000000  31600.000000  31600.0  \n",
              "mean      -0.305334     -3.761824      2.113478    -50.910645      0.0  \n",
              "std       28.791083     11.702005     11.247233     15.660814      0.0  \n",
              "min     -480.350000    -47.270000    -26.550000   -103.260000      0.0  \n",
              "25%       -0.370000    -11.560000     -5.760000    -55.320000      0.0  \n",
              "50%       -0.310000     -7.690000     -1.880000    -54.090000      0.0  \n",
              "75%       -0.240000      1.260000      7.350000    -46.190000      0.0  \n",
              "max      421.870000     35.130000     45.080000     38.240000      0.0  "
            ],
            "text/html": [
              "\n",
              "  <div id=\"df-d2c510eb-2524-46f3-950c-1f654e605c87\">\n",
              "    <div class=\"colab-df-container\">\n",
              "      <div>\n",
              "<style scoped>\n",
              "    .dataframe tbody tr th:only-of-type {\n",
              "        vertical-align: middle;\n",
              "    }\n",
              "\n",
              "    .dataframe tbody tr th {\n",
              "        vertical-align: top;\n",
              "    }\n",
              "\n",
              "    .dataframe thead th {\n",
              "        text-align: right;\n",
              "    }\n",
              "</style>\n",
              "<table border=\"1\" class=\"dataframe\">\n",
              "  <thead>\n",
              "    <tr style=\"text-align: right;\">\n",
              "      <th></th>\n",
              "      <th>accel_x</th>\n",
              "      <th>accel_y</th>\n",
              "      <th>accel_z</th>\n",
              "      <th>gyro_x</th>\n",
              "      <th>gyro_y</th>\n",
              "      <th>gyro_z</th>\n",
              "      <th>mag_x</th>\n",
              "      <th>mag_y</th>\n",
              "      <th>mag_z</th>\n",
              "      <th>__v</th>\n",
              "    </tr>\n",
              "  </thead>\n",
              "  <tbody>\n",
              "    <tr>\n",
              "      <th>count</th>\n",
              "      <td>31600.000000</td>\n",
              "      <td>31600.000000</td>\n",
              "      <td>31600.000000</td>\n",
              "      <td>31600.000000</td>\n",
              "      <td>31600.000000</td>\n",
              "      <td>31600.000000</td>\n",
              "      <td>31600.000000</td>\n",
              "      <td>31600.000000</td>\n",
              "      <td>31600.000000</td>\n",
              "      <td>31600.0</td>\n",
              "    </tr>\n",
              "    <tr>\n",
              "      <th>mean</th>\n",
              "      <td>-0.006863</td>\n",
              "      <td>-0.003522</td>\n",
              "      <td>0.940492</td>\n",
              "      <td>-0.027985</td>\n",
              "      <td>-3.224891</td>\n",
              "      <td>-0.305334</td>\n",
              "      <td>-3.761824</td>\n",
              "      <td>2.113478</td>\n",
              "      <td>-50.910645</td>\n",
              "      <td>0.0</td>\n",
              "    </tr>\n",
              "    <tr>\n",
              "      <th>std</th>\n",
              "      <td>0.225962</td>\n",
              "      <td>0.153295</td>\n",
              "      <td>0.233296</td>\n",
              "      <td>44.427522</td>\n",
              "      <td>36.653543</td>\n",
              "      <td>28.791083</td>\n",
              "      <td>11.702005</td>\n",
              "      <td>11.247233</td>\n",
              "      <td>15.660814</td>\n",
              "      <td>0.0</td>\n",
              "    </tr>\n",
              "    <tr>\n",
              "      <th>min</th>\n",
              "      <td>-2.900000</td>\n",
              "      <td>-2.250000</td>\n",
              "      <td>-1.600000</td>\n",
              "      <td>-909.550000</td>\n",
              "      <td>-613.160000</td>\n",
              "      <td>-480.350000</td>\n",
              "      <td>-47.270000</td>\n",
              "      <td>-26.550000</td>\n",
              "      <td>-103.260000</td>\n",
              "      <td>0.0</td>\n",
              "    </tr>\n",
              "    <tr>\n",
              "      <th>25%</th>\n",
              "      <td>0.010000</td>\n",
              "      <td>-0.010000</td>\n",
              "      <td>0.990000</td>\n",
              "      <td>-0.310000</td>\n",
              "      <td>-3.600000</td>\n",
              "      <td>-0.370000</td>\n",
              "      <td>-11.560000</td>\n",
              "      <td>-5.760000</td>\n",
              "      <td>-55.320000</td>\n",
              "      <td>0.0</td>\n",
              "    </tr>\n",
              "    <tr>\n",
              "      <th>50%</th>\n",
              "      <td>0.030000</td>\n",
              "      <td>-0.000000</td>\n",
              "      <td>0.990000</td>\n",
              "      <td>-0.240000</td>\n",
              "      <td>-3.540000</td>\n",
              "      <td>-0.310000</td>\n",
              "      <td>-7.690000</td>\n",
              "      <td>-1.880000</td>\n",
              "      <td>-54.090000</td>\n",
              "      <td>0.0</td>\n",
              "    </tr>\n",
              "    <tr>\n",
              "      <th>75%</th>\n",
              "      <td>0.030000</td>\n",
              "      <td>0.000000</td>\n",
              "      <td>0.990000</td>\n",
              "      <td>-0.180000</td>\n",
              "      <td>-3.420000</td>\n",
              "      <td>-0.240000</td>\n",
              "      <td>1.260000</td>\n",
              "      <td>7.350000</td>\n",
              "      <td>-46.190000</td>\n",
              "      <td>0.0</td>\n",
              "    </tr>\n",
              "    <tr>\n",
              "      <th>max</th>\n",
              "      <td>1.400000</td>\n",
              "      <td>1.680000</td>\n",
              "      <td>2.510000</td>\n",
              "      <td>1258.610000</td>\n",
              "      <td>663.150000</td>\n",
              "      <td>421.870000</td>\n",
              "      <td>35.130000</td>\n",
              "      <td>45.080000</td>\n",
              "      <td>38.240000</td>\n",
              "      <td>0.0</td>\n",
              "    </tr>\n",
              "  </tbody>\n",
              "</table>\n",
              "</div>\n",
              "      <button class=\"colab-df-convert\" onclick=\"convertToInteractive('df-d2c510eb-2524-46f3-950c-1f654e605c87')\"\n",
              "              title=\"Convert this dataframe to an interactive table.\"\n",
              "              style=\"display:none;\">\n",
              "        \n",
              "  <svg xmlns=\"http://www.w3.org/2000/svg\" height=\"24px\"viewBox=\"0 0 24 24\"\n",
              "       width=\"24px\">\n",
              "    <path d=\"M0 0h24v24H0V0z\" fill=\"none\"/>\n",
              "    <path d=\"M18.56 5.44l.94 2.06.94-2.06 2.06-.94-2.06-.94-.94-2.06-.94 2.06-2.06.94zm-11 1L8.5 8.5l.94-2.06 2.06-.94-2.06-.94L8.5 2.5l-.94 2.06-2.06.94zm10 10l.94 2.06.94-2.06 2.06-.94-2.06-.94-.94-2.06-.94 2.06-2.06.94z\"/><path d=\"M17.41 7.96l-1.37-1.37c-.4-.4-.92-.59-1.43-.59-.52 0-1.04.2-1.43.59L10.3 9.45l-7.72 7.72c-.78.78-.78 2.05 0 2.83L4 21.41c.39.39.9.59 1.41.59.51 0 1.02-.2 1.41-.59l7.78-7.78 2.81-2.81c.8-.78.8-2.07 0-2.86zM5.41 20L4 18.59l7.72-7.72 1.47 1.35L5.41 20z\"/>\n",
              "  </svg>\n",
              "      </button>\n",
              "      \n",
              "  <style>\n",
              "    .colab-df-container {\n",
              "      display:flex;\n",
              "      flex-wrap:wrap;\n",
              "      gap: 12px;\n",
              "    }\n",
              "\n",
              "    .colab-df-convert {\n",
              "      background-color: #E8F0FE;\n",
              "      border: none;\n",
              "      border-radius: 50%;\n",
              "      cursor: pointer;\n",
              "      display: none;\n",
              "      fill: #1967D2;\n",
              "      height: 32px;\n",
              "      padding: 0 0 0 0;\n",
              "      width: 32px;\n",
              "    }\n",
              "\n",
              "    .colab-df-convert:hover {\n",
              "      background-color: #E2EBFA;\n",
              "      box-shadow: 0px 1px 2px rgba(60, 64, 67, 0.3), 0px 1px 3px 1px rgba(60, 64, 67, 0.15);\n",
              "      fill: #174EA6;\n",
              "    }\n",
              "\n",
              "    [theme=dark] .colab-df-convert {\n",
              "      background-color: #3B4455;\n",
              "      fill: #D2E3FC;\n",
              "    }\n",
              "\n",
              "    [theme=dark] .colab-df-convert:hover {\n",
              "      background-color: #434B5C;\n",
              "      box-shadow: 0px 1px 3px 1px rgba(0, 0, 0, 0.15);\n",
              "      filter: drop-shadow(0px 1px 2px rgba(0, 0, 0, 0.3));\n",
              "      fill: #FFFFFF;\n",
              "    }\n",
              "  </style>\n",
              "\n",
              "      <script>\n",
              "        const buttonEl =\n",
              "          document.querySelector('#df-d2c510eb-2524-46f3-950c-1f654e605c87 button.colab-df-convert');\n",
              "        buttonEl.style.display =\n",
              "          google.colab.kernel.accessAllowed ? 'block' : 'none';\n",
              "\n",
              "        async function convertToInteractive(key) {\n",
              "          const element = document.querySelector('#df-d2c510eb-2524-46f3-950c-1f654e605c87');\n",
              "          const dataTable =\n",
              "            await google.colab.kernel.invokeFunction('convertToInteractive',\n",
              "                                                     [key], {});\n",
              "          if (!dataTable) return;\n",
              "\n",
              "          const docLinkHtml = 'Like what you see? Visit the ' +\n",
              "            '<a target=\"_blank\" href=https://colab.research.google.com/notebooks/data_table.ipynb>data table notebook</a>'\n",
              "            + ' to learn more about interactive tables.';\n",
              "          element.innerHTML = '';\n",
              "          dataTable['output_type'] = 'display_data';\n",
              "          await google.colab.output.renderOutput(dataTable, element);\n",
              "          const docLink = document.createElement('div');\n",
              "          docLink.innerHTML = docLinkHtml;\n",
              "          element.appendChild(docLink);\n",
              "        }\n",
              "      </script>\n",
              "    </div>\n",
              "  </div>\n",
              "  "
            ]
          },
          "metadata": {},
          "execution_count": 8
        }
      ]
    },
    {
      "cell_type": "markdown",
      "metadata": {
        "id": "g9Z8adSvNEp_"
      },
      "source": [
        "## Check data\n",
        "- NaN\n",
        "- missing value"
      ]
    },
    {
      "cell_type": "code",
      "metadata": {
        "colab": {
          "base_uri": "https://localhost:8080/"
        },
        "id": "c35w4k5fNJRI",
        "outputId": "db46a2df-ec84-4e61-b7b4-79dbb01e6414"
      },
      "source": [
        "df.isnull().sum() #/df.shape[0]*100"
      ],
      "execution_count": null,
      "outputs": [
        {
          "output_type": "execute_result",
          "data": {
            "text/plain": [
              "_id        0\n",
              "date       0\n",
              "accel_x    0\n",
              "accel_y    0\n",
              "accel_z    0\n",
              "gyro_x     0\n",
              "gyro_y     0\n",
              "gyro_z     0\n",
              "mag_x      0\n",
              "mag_y      0\n",
              "mag_z      0\n",
              "__v        0\n",
              "dtype: int64"
            ]
          },
          "metadata": {},
          "execution_count": 9
        }
      ]
    },
    {
      "cell_type": "code",
      "metadata": {
        "colab": {
          "base_uri": "https://localhost:8080/"
        },
        "id": "V6txumYNbERU",
        "outputId": "ad7ab7ff-f3b7-4dfb-c031-3551a6478e30"
      },
      "source": [
        "df.isna().sum()"
      ],
      "execution_count": null,
      "outputs": [
        {
          "output_type": "execute_result",
          "data": {
            "text/plain": [
              "_id        0\n",
              "date       0\n",
              "accel_x    0\n",
              "accel_y    0\n",
              "accel_z    0\n",
              "gyro_x     0\n",
              "gyro_y     0\n",
              "gyro_z     0\n",
              "mag_x      0\n",
              "mag_y      0\n",
              "mag_z      0\n",
              "__v        0\n",
              "dtype: int64"
            ]
          },
          "metadata": {},
          "execution_count": 10
        }
      ]
    },
    {
      "cell_type": "markdown",
      "metadata": {
        "id": "eR-9lPsaN1ce"
      },
      "source": [
        "## Replace NaN with mean: Imputation\n",
        "- NaN ==>> mean, 33.3 (100/3)"
      ]
    },
    {
      "cell_type": "code",
      "metadata": {
        "id": "aOZec4f9Z4uB"
      },
      "source": [
        "# df=df.fillna(33.3)\n",
        "# df.isna().sum()"
      ],
      "execution_count": null,
      "outputs": []
    },
    {
      "cell_type": "markdown",
      "metadata": {
        "id": "fMZWYEMxOmSy"
      },
      "source": [
        "## IoT data were cleaned!"
      ]
    },
    {
      "cell_type": "code",
      "source": [
        "# Save cleaned iot data in csv file.\n",
        "df.to_csv('iot33imu_data_cleaned_221215_raw.csv')"
      ],
      "metadata": {
        "id": "N6MPFoVPDKAV"
      },
      "execution_count": null,
      "outputs": []
    },
    {
      "cell_type": "code",
      "metadata": {
        "colab": {
          "base_uri": "https://localhost:8080/",
          "height": 206
        },
        "id": "PG38R4s0pU4B",
        "outputId": "971c7b39-7c68-43d5-87ef-bf30c3a66b0f"
      },
      "source": [
        "df.head()"
      ],
      "execution_count": null,
      "outputs": [
        {
          "output_type": "execute_result",
          "data": {
            "text/plain": [
              "                        _id                    date  accel_x  accel_y  \\\n",
              "0  639a7a5d2f1ab8f42ac826c8 2022-12-15 10:37:33.724     0.03    -0.01   \n",
              "1  639a7a5e2f1ab8f42ac826ca 2022-12-15 10:37:34.233     0.03    -0.01   \n",
              "2  639a7a5e2f1ab8f42ac826cc 2022-12-15 10:37:34.742     0.03    -0.01   \n",
              "3  639a7a5f2f1ab8f42ac826ce 2022-12-15 10:37:35.251     0.03    -0.01   \n",
              "4  639a7a5f2f1ab8f42ac826d0 2022-12-15 10:37:35.760     0.03    -0.01   \n",
              "\n",
              "   accel_z  gyro_x  gyro_y  gyro_z  mag_x  mag_y  mag_z  __v  \n",
              "0     0.99   -0.18   -3.54   -0.31 -12.12  16.19 -42.16    0  \n",
              "1     0.99   -0.24   -3.60   -0.24 -11.82  16.52 -41.88    0  \n",
              "2     0.99   -0.06   -3.54   -0.24 -12.05  16.16 -41.75    0  \n",
              "3     0.99   -0.24   -3.48   -0.31 -12.06  16.21 -41.61    0  \n",
              "4     0.99   -0.24   -3.54   -0.31 -12.00  16.31 -42.70    0  "
            ],
            "text/html": [
              "\n",
              "  <div id=\"df-c446fc41-f923-4fb9-a51e-4668ea586d69\">\n",
              "    <div class=\"colab-df-container\">\n",
              "      <div>\n",
              "<style scoped>\n",
              "    .dataframe tbody tr th:only-of-type {\n",
              "        vertical-align: middle;\n",
              "    }\n",
              "\n",
              "    .dataframe tbody tr th {\n",
              "        vertical-align: top;\n",
              "    }\n",
              "\n",
              "    .dataframe thead th {\n",
              "        text-align: right;\n",
              "    }\n",
              "</style>\n",
              "<table border=\"1\" class=\"dataframe\">\n",
              "  <thead>\n",
              "    <tr style=\"text-align: right;\">\n",
              "      <th></th>\n",
              "      <th>_id</th>\n",
              "      <th>date</th>\n",
              "      <th>accel_x</th>\n",
              "      <th>accel_y</th>\n",
              "      <th>accel_z</th>\n",
              "      <th>gyro_x</th>\n",
              "      <th>gyro_y</th>\n",
              "      <th>gyro_z</th>\n",
              "      <th>mag_x</th>\n",
              "      <th>mag_y</th>\n",
              "      <th>mag_z</th>\n",
              "      <th>__v</th>\n",
              "    </tr>\n",
              "  </thead>\n",
              "  <tbody>\n",
              "    <tr>\n",
              "      <th>0</th>\n",
              "      <td>639a7a5d2f1ab8f42ac826c8</td>\n",
              "      <td>2022-12-15 10:37:33.724</td>\n",
              "      <td>0.03</td>\n",
              "      <td>-0.01</td>\n",
              "      <td>0.99</td>\n",
              "      <td>-0.18</td>\n",
              "      <td>-3.54</td>\n",
              "      <td>-0.31</td>\n",
              "      <td>-12.12</td>\n",
              "      <td>16.19</td>\n",
              "      <td>-42.16</td>\n",
              "      <td>0</td>\n",
              "    </tr>\n",
              "    <tr>\n",
              "      <th>1</th>\n",
              "      <td>639a7a5e2f1ab8f42ac826ca</td>\n",
              "      <td>2022-12-15 10:37:34.233</td>\n",
              "      <td>0.03</td>\n",
              "      <td>-0.01</td>\n",
              "      <td>0.99</td>\n",
              "      <td>-0.24</td>\n",
              "      <td>-3.60</td>\n",
              "      <td>-0.24</td>\n",
              "      <td>-11.82</td>\n",
              "      <td>16.52</td>\n",
              "      <td>-41.88</td>\n",
              "      <td>0</td>\n",
              "    </tr>\n",
              "    <tr>\n",
              "      <th>2</th>\n",
              "      <td>639a7a5e2f1ab8f42ac826cc</td>\n",
              "      <td>2022-12-15 10:37:34.742</td>\n",
              "      <td>0.03</td>\n",
              "      <td>-0.01</td>\n",
              "      <td>0.99</td>\n",
              "      <td>-0.06</td>\n",
              "      <td>-3.54</td>\n",
              "      <td>-0.24</td>\n",
              "      <td>-12.05</td>\n",
              "      <td>16.16</td>\n",
              "      <td>-41.75</td>\n",
              "      <td>0</td>\n",
              "    </tr>\n",
              "    <tr>\n",
              "      <th>3</th>\n",
              "      <td>639a7a5f2f1ab8f42ac826ce</td>\n",
              "      <td>2022-12-15 10:37:35.251</td>\n",
              "      <td>0.03</td>\n",
              "      <td>-0.01</td>\n",
              "      <td>0.99</td>\n",
              "      <td>-0.24</td>\n",
              "      <td>-3.48</td>\n",
              "      <td>-0.31</td>\n",
              "      <td>-12.06</td>\n",
              "      <td>16.21</td>\n",
              "      <td>-41.61</td>\n",
              "      <td>0</td>\n",
              "    </tr>\n",
              "    <tr>\n",
              "      <th>4</th>\n",
              "      <td>639a7a5f2f1ab8f42ac826d0</td>\n",
              "      <td>2022-12-15 10:37:35.760</td>\n",
              "      <td>0.03</td>\n",
              "      <td>-0.01</td>\n",
              "      <td>0.99</td>\n",
              "      <td>-0.24</td>\n",
              "      <td>-3.54</td>\n",
              "      <td>-0.31</td>\n",
              "      <td>-12.00</td>\n",
              "      <td>16.31</td>\n",
              "      <td>-42.70</td>\n",
              "      <td>0</td>\n",
              "    </tr>\n",
              "  </tbody>\n",
              "</table>\n",
              "</div>\n",
              "      <button class=\"colab-df-convert\" onclick=\"convertToInteractive('df-c446fc41-f923-4fb9-a51e-4668ea586d69')\"\n",
              "              title=\"Convert this dataframe to an interactive table.\"\n",
              "              style=\"display:none;\">\n",
              "        \n",
              "  <svg xmlns=\"http://www.w3.org/2000/svg\" height=\"24px\"viewBox=\"0 0 24 24\"\n",
              "       width=\"24px\">\n",
              "    <path d=\"M0 0h24v24H0V0z\" fill=\"none\"/>\n",
              "    <path d=\"M18.56 5.44l.94 2.06.94-2.06 2.06-.94-2.06-.94-.94-2.06-.94 2.06-2.06.94zm-11 1L8.5 8.5l.94-2.06 2.06-.94-2.06-.94L8.5 2.5l-.94 2.06-2.06.94zm10 10l.94 2.06.94-2.06 2.06-.94-2.06-.94-.94-2.06-.94 2.06-2.06.94z\"/><path d=\"M17.41 7.96l-1.37-1.37c-.4-.4-.92-.59-1.43-.59-.52 0-1.04.2-1.43.59L10.3 9.45l-7.72 7.72c-.78.78-.78 2.05 0 2.83L4 21.41c.39.39.9.59 1.41.59.51 0 1.02-.2 1.41-.59l7.78-7.78 2.81-2.81c.8-.78.8-2.07 0-2.86zM5.41 20L4 18.59l7.72-7.72 1.47 1.35L5.41 20z\"/>\n",
              "  </svg>\n",
              "      </button>\n",
              "      \n",
              "  <style>\n",
              "    .colab-df-container {\n",
              "      display:flex;\n",
              "      flex-wrap:wrap;\n",
              "      gap: 12px;\n",
              "    }\n",
              "\n",
              "    .colab-df-convert {\n",
              "      background-color: #E8F0FE;\n",
              "      border: none;\n",
              "      border-radius: 50%;\n",
              "      cursor: pointer;\n",
              "      display: none;\n",
              "      fill: #1967D2;\n",
              "      height: 32px;\n",
              "      padding: 0 0 0 0;\n",
              "      width: 32px;\n",
              "    }\n",
              "\n",
              "    .colab-df-convert:hover {\n",
              "      background-color: #E2EBFA;\n",
              "      box-shadow: 0px 1px 2px rgba(60, 64, 67, 0.3), 0px 1px 3px 1px rgba(60, 64, 67, 0.15);\n",
              "      fill: #174EA6;\n",
              "    }\n",
              "\n",
              "    [theme=dark] .colab-df-convert {\n",
              "      background-color: #3B4455;\n",
              "      fill: #D2E3FC;\n",
              "    }\n",
              "\n",
              "    [theme=dark] .colab-df-convert:hover {\n",
              "      background-color: #434B5C;\n",
              "      box-shadow: 0px 1px 3px 1px rgba(0, 0, 0, 0.15);\n",
              "      filter: drop-shadow(0px 1px 2px rgba(0, 0, 0, 0.3));\n",
              "      fill: #FFFFFF;\n",
              "    }\n",
              "  </style>\n",
              "\n",
              "      <script>\n",
              "        const buttonEl =\n",
              "          document.querySelector('#df-c446fc41-f923-4fb9-a51e-4668ea586d69 button.colab-df-convert');\n",
              "        buttonEl.style.display =\n",
              "          google.colab.kernel.accessAllowed ? 'block' : 'none';\n",
              "\n",
              "        async function convertToInteractive(key) {\n",
              "          const element = document.querySelector('#df-c446fc41-f923-4fb9-a51e-4668ea586d69');\n",
              "          const dataTable =\n",
              "            await google.colab.kernel.invokeFunction('convertToInteractive',\n",
              "                                                     [key], {});\n",
              "          if (!dataTable) return;\n",
              "\n",
              "          const docLinkHtml = 'Like what you see? Visit the ' +\n",
              "            '<a target=\"_blank\" href=https://colab.research.google.com/notebooks/data_table.ipynb>data table notebook</a>'\n",
              "            + ' to learn more about interactive tables.';\n",
              "          element.innerHTML = '';\n",
              "          dataTable['output_type'] = 'display_data';\n",
              "          await google.colab.output.renderOutput(dataTable, element);\n",
              "          const docLink = document.createElement('div');\n",
              "          docLink.innerHTML = docLinkHtml;\n",
              "          element.appendChild(docLink);\n",
              "        }\n",
              "      </script>\n",
              "    </div>\n",
              "  </div>\n",
              "  "
            ]
          },
          "metadata": {},
          "execution_count": 13
        }
      ]
    },
    {
      "cell_type": "markdown",
      "metadata": {
        "id": "H5gtQbgCw62w"
      },
      "source": [
        "## New DataFrame : iot_data\n",
        "### Dataframe with date and ax,ay,az,gx,gy,gz,mx,my,mz"
      ]
    },
    {
      "cell_type": "markdown",
      "source": [
        "### [DIY-1] "
      ],
      "metadata": {
        "id": "Bk_q0zf6tuQ9"
      }
    },
    {
      "cell_type": "code",
      "metadata": {
        "id": "5VTfTsldfaGj"
      },
      "source": [
        "#  [DIY-1] select columns\n",
        "cols = ['date','accel_x','accel_y','accel_z','gyro_x','gyro_y','gyro_z','mag_x','mag_y','mag_z']"
      ],
      "execution_count": null,
      "outputs": []
    },
    {
      "cell_type": "code",
      "metadata": {
        "id": "wLi8PDa_wly3"
      },
      "source": [
        "# Make iot data\n",
        "iot_data = df[cols]"
      ],
      "execution_count": null,
      "outputs": []
    },
    {
      "cell_type": "code",
      "metadata": {
        "colab": {
          "base_uri": "https://localhost:8080/"
        },
        "id": "NWW0Y_Zswly8",
        "outputId": "0552b818-8505-40b5-d8fc-0956e5acc291"
      },
      "source": [
        "iot_data.shape"
      ],
      "execution_count": null,
      "outputs": [
        {
          "output_type": "execute_result",
          "data": {
            "text/plain": [
              "(31600, 10)"
            ]
          },
          "metadata": {},
          "execution_count": 16
        }
      ]
    },
    {
      "cell_type": "code",
      "metadata": {
        "colab": {
          "base_uri": "https://localhost:8080/",
          "height": 206
        },
        "id": "QrsngVb8wlzA",
        "outputId": "3fae7051-754d-4045-8921-7280d1255e84"
      },
      "source": [
        "iot_data.head()  # date와 9 개의 신호를 확인."
      ],
      "execution_count": null,
      "outputs": [
        {
          "output_type": "execute_result",
          "data": {
            "text/plain": [
              "                     date  accel_x  accel_y  accel_z  gyro_x  gyro_y  gyro_z  \\\n",
              "0 2022-12-15 10:37:33.724     0.03    -0.01     0.99   -0.18   -3.54   -0.31   \n",
              "1 2022-12-15 10:37:34.233     0.03    -0.01     0.99   -0.24   -3.60   -0.24   \n",
              "2 2022-12-15 10:37:34.742     0.03    -0.01     0.99   -0.06   -3.54   -0.24   \n",
              "3 2022-12-15 10:37:35.251     0.03    -0.01     0.99   -0.24   -3.48   -0.31   \n",
              "4 2022-12-15 10:37:35.760     0.03    -0.01     0.99   -0.24   -3.54   -0.31   \n",
              "\n",
              "   mag_x  mag_y  mag_z  \n",
              "0 -12.12  16.19 -42.16  \n",
              "1 -11.82  16.52 -41.88  \n",
              "2 -12.05  16.16 -41.75  \n",
              "3 -12.06  16.21 -41.61  \n",
              "4 -12.00  16.31 -42.70  "
            ],
            "text/html": [
              "\n",
              "  <div id=\"df-59f0f95d-7669-4f79-84bc-955c51e6d3f5\">\n",
              "    <div class=\"colab-df-container\">\n",
              "      <div>\n",
              "<style scoped>\n",
              "    .dataframe tbody tr th:only-of-type {\n",
              "        vertical-align: middle;\n",
              "    }\n",
              "\n",
              "    .dataframe tbody tr th {\n",
              "        vertical-align: top;\n",
              "    }\n",
              "\n",
              "    .dataframe thead th {\n",
              "        text-align: right;\n",
              "    }\n",
              "</style>\n",
              "<table border=\"1\" class=\"dataframe\">\n",
              "  <thead>\n",
              "    <tr style=\"text-align: right;\">\n",
              "      <th></th>\n",
              "      <th>date</th>\n",
              "      <th>accel_x</th>\n",
              "      <th>accel_y</th>\n",
              "      <th>accel_z</th>\n",
              "      <th>gyro_x</th>\n",
              "      <th>gyro_y</th>\n",
              "      <th>gyro_z</th>\n",
              "      <th>mag_x</th>\n",
              "      <th>mag_y</th>\n",
              "      <th>mag_z</th>\n",
              "    </tr>\n",
              "  </thead>\n",
              "  <tbody>\n",
              "    <tr>\n",
              "      <th>0</th>\n",
              "      <td>2022-12-15 10:37:33.724</td>\n",
              "      <td>0.03</td>\n",
              "      <td>-0.01</td>\n",
              "      <td>0.99</td>\n",
              "      <td>-0.18</td>\n",
              "      <td>-3.54</td>\n",
              "      <td>-0.31</td>\n",
              "      <td>-12.12</td>\n",
              "      <td>16.19</td>\n",
              "      <td>-42.16</td>\n",
              "    </tr>\n",
              "    <tr>\n",
              "      <th>1</th>\n",
              "      <td>2022-12-15 10:37:34.233</td>\n",
              "      <td>0.03</td>\n",
              "      <td>-0.01</td>\n",
              "      <td>0.99</td>\n",
              "      <td>-0.24</td>\n",
              "      <td>-3.60</td>\n",
              "      <td>-0.24</td>\n",
              "      <td>-11.82</td>\n",
              "      <td>16.52</td>\n",
              "      <td>-41.88</td>\n",
              "    </tr>\n",
              "    <tr>\n",
              "      <th>2</th>\n",
              "      <td>2022-12-15 10:37:34.742</td>\n",
              "      <td>0.03</td>\n",
              "      <td>-0.01</td>\n",
              "      <td>0.99</td>\n",
              "      <td>-0.06</td>\n",
              "      <td>-3.54</td>\n",
              "      <td>-0.24</td>\n",
              "      <td>-12.05</td>\n",
              "      <td>16.16</td>\n",
              "      <td>-41.75</td>\n",
              "    </tr>\n",
              "    <tr>\n",
              "      <th>3</th>\n",
              "      <td>2022-12-15 10:37:35.251</td>\n",
              "      <td>0.03</td>\n",
              "      <td>-0.01</td>\n",
              "      <td>0.99</td>\n",
              "      <td>-0.24</td>\n",
              "      <td>-3.48</td>\n",
              "      <td>-0.31</td>\n",
              "      <td>-12.06</td>\n",
              "      <td>16.21</td>\n",
              "      <td>-41.61</td>\n",
              "    </tr>\n",
              "    <tr>\n",
              "      <th>4</th>\n",
              "      <td>2022-12-15 10:37:35.760</td>\n",
              "      <td>0.03</td>\n",
              "      <td>-0.01</td>\n",
              "      <td>0.99</td>\n",
              "      <td>-0.24</td>\n",
              "      <td>-3.54</td>\n",
              "      <td>-0.31</td>\n",
              "      <td>-12.00</td>\n",
              "      <td>16.31</td>\n",
              "      <td>-42.70</td>\n",
              "    </tr>\n",
              "  </tbody>\n",
              "</table>\n",
              "</div>\n",
              "      <button class=\"colab-df-convert\" onclick=\"convertToInteractive('df-59f0f95d-7669-4f79-84bc-955c51e6d3f5')\"\n",
              "              title=\"Convert this dataframe to an interactive table.\"\n",
              "              style=\"display:none;\">\n",
              "        \n",
              "  <svg xmlns=\"http://www.w3.org/2000/svg\" height=\"24px\"viewBox=\"0 0 24 24\"\n",
              "       width=\"24px\">\n",
              "    <path d=\"M0 0h24v24H0V0z\" fill=\"none\"/>\n",
              "    <path d=\"M18.56 5.44l.94 2.06.94-2.06 2.06-.94-2.06-.94-.94-2.06-.94 2.06-2.06.94zm-11 1L8.5 8.5l.94-2.06 2.06-.94-2.06-.94L8.5 2.5l-.94 2.06-2.06.94zm10 10l.94 2.06.94-2.06 2.06-.94-2.06-.94-.94-2.06-.94 2.06-2.06.94z\"/><path d=\"M17.41 7.96l-1.37-1.37c-.4-.4-.92-.59-1.43-.59-.52 0-1.04.2-1.43.59L10.3 9.45l-7.72 7.72c-.78.78-.78 2.05 0 2.83L4 21.41c.39.39.9.59 1.41.59.51 0 1.02-.2 1.41-.59l7.78-7.78 2.81-2.81c.8-.78.8-2.07 0-2.86zM5.41 20L4 18.59l7.72-7.72 1.47 1.35L5.41 20z\"/>\n",
              "  </svg>\n",
              "      </button>\n",
              "      \n",
              "  <style>\n",
              "    .colab-df-container {\n",
              "      display:flex;\n",
              "      flex-wrap:wrap;\n",
              "      gap: 12px;\n",
              "    }\n",
              "\n",
              "    .colab-df-convert {\n",
              "      background-color: #E8F0FE;\n",
              "      border: none;\n",
              "      border-radius: 50%;\n",
              "      cursor: pointer;\n",
              "      display: none;\n",
              "      fill: #1967D2;\n",
              "      height: 32px;\n",
              "      padding: 0 0 0 0;\n",
              "      width: 32px;\n",
              "    }\n",
              "\n",
              "    .colab-df-convert:hover {\n",
              "      background-color: #E2EBFA;\n",
              "      box-shadow: 0px 1px 2px rgba(60, 64, 67, 0.3), 0px 1px 3px 1px rgba(60, 64, 67, 0.15);\n",
              "      fill: #174EA6;\n",
              "    }\n",
              "\n",
              "    [theme=dark] .colab-df-convert {\n",
              "      background-color: #3B4455;\n",
              "      fill: #D2E3FC;\n",
              "    }\n",
              "\n",
              "    [theme=dark] .colab-df-convert:hover {\n",
              "      background-color: #434B5C;\n",
              "      box-shadow: 0px 1px 3px 1px rgba(0, 0, 0, 0.15);\n",
              "      filter: drop-shadow(0px 1px 2px rgba(0, 0, 0, 0.3));\n",
              "      fill: #FFFFFF;\n",
              "    }\n",
              "  </style>\n",
              "\n",
              "      <script>\n",
              "        const buttonEl =\n",
              "          document.querySelector('#df-59f0f95d-7669-4f79-84bc-955c51e6d3f5 button.colab-df-convert');\n",
              "        buttonEl.style.display =\n",
              "          google.colab.kernel.accessAllowed ? 'block' : 'none';\n",
              "\n",
              "        async function convertToInteractive(key) {\n",
              "          const element = document.querySelector('#df-59f0f95d-7669-4f79-84bc-955c51e6d3f5');\n",
              "          const dataTable =\n",
              "            await google.colab.kernel.invokeFunction('convertToInteractive',\n",
              "                                                     [key], {});\n",
              "          if (!dataTable) return;\n",
              "\n",
              "          const docLinkHtml = 'Like what you see? Visit the ' +\n",
              "            '<a target=\"_blank\" href=https://colab.research.google.com/notebooks/data_table.ipynb>data table notebook</a>'\n",
              "            + ' to learn more about interactive tables.';\n",
              "          element.innerHTML = '';\n",
              "          dataTable['output_type'] = 'display_data';\n",
              "          await google.colab.output.renderOutput(dataTable, element);\n",
              "          const docLink = document.createElement('div');\n",
              "          docLink.innerHTML = docLinkHtml;\n",
              "          element.appendChild(docLink);\n",
              "        }\n",
              "      </script>\n",
              "    </div>\n",
              "  </div>\n",
              "  "
            ]
          },
          "metadata": {},
          "execution_count": 17
        }
      ]
    },
    {
      "cell_type": "code",
      "metadata": {
        "colab": {
          "base_uri": "https://localhost:8080/"
        },
        "id": "ZI7ggvWpwlzG",
        "outputId": "2fb47182-cfe5-4dcf-db8b-435e4bb6e11c"
      },
      "source": [
        "iot_data.info()"
      ],
      "execution_count": null,
      "outputs": [
        {
          "output_type": "stream",
          "name": "stdout",
          "text": [
            "<class 'pandas.core.frame.DataFrame'>\n",
            "RangeIndex: 31600 entries, 0 to 31599\n",
            "Data columns (total 10 columns):\n",
            " #   Column   Non-Null Count  Dtype         \n",
            "---  ------   --------------  -----         \n",
            " 0   date     31600 non-null  datetime64[ns]\n",
            " 1   accel_x  31600 non-null  float64       \n",
            " 2   accel_y  31600 non-null  float64       \n",
            " 3   accel_z  31600 non-null  float64       \n",
            " 4   gyro_x   31600 non-null  float64       \n",
            " 5   gyro_y   31600 non-null  float64       \n",
            " 6   gyro_z   31600 non-null  float64       \n",
            " 7   mag_x    31600 non-null  float64       \n",
            " 8   mag_y    31600 non-null  float64       \n",
            " 9   mag_z    31600 non-null  float64       \n",
            "dtypes: datetime64[ns](1), float64(9)\n",
            "memory usage: 2.4 MB\n"
          ]
        }
      ]
    },
    {
      "cell_type": "code",
      "metadata": {
        "colab": {
          "base_uri": "https://localhost:8080/"
        },
        "id": "YlYSuLHMdX3_",
        "outputId": "4f32ee3e-984b-48c0-ae25-33c09ba8d3ba"
      },
      "source": [
        "iot_data.isna().sum()"
      ],
      "execution_count": null,
      "outputs": [
        {
          "output_type": "execute_result",
          "data": {
            "text/plain": [
              "date       0\n",
              "accel_x    0\n",
              "accel_y    0\n",
              "accel_z    0\n",
              "gyro_x     0\n",
              "gyro_y     0\n",
              "gyro_z     0\n",
              "mag_x      0\n",
              "mag_y      0\n",
              "mag_z      0\n",
              "dtype: int64"
            ]
          },
          "metadata": {},
          "execution_count": 19
        }
      ]
    },
    {
      "cell_type": "code",
      "metadata": {
        "id": "sKH2MLA7lxjh"
      },
      "source": [
        "# Save iot data in csv file.\n",
        "iot_data.to_csv('iot_nano33imu_221215.csv')"
      ],
      "execution_count": null,
      "outputs": []
    },
    {
      "cell_type": "markdown",
      "metadata": {
        "id": "tqGuXzIPfYbZ"
      },
      "source": [
        "## EDA (Exploratory Data Analysis, 탐색적 자료 분석) "
      ]
    },
    {
      "cell_type": "code",
      "metadata": {
        "colab": {
          "base_uri": "https://localhost:8080/",
          "height": 309
        },
        "id": "2QB6w7uvuN6R",
        "outputId": "b138745c-33b4-4ea9-8582-78223bc33555"
      },
      "source": [
        "# Plot boxplot\n",
        "iot_data.iloc[:,1:].plot.box(title='Boxplot of all signals')\n",
        "plt.xticks(rotation=60)\n",
        "plt.show()"
      ],
      "execution_count": null,
      "outputs": [
        {
          "output_type": "display_data",
          "data": {
            "text/plain": [
              "<Figure size 432x288 with 1 Axes>"
            ],
            "image/png": "[encoded data removed]"
          },
          "metadata": {
            "needs_background": "light"
          }
        }
      ]
    },
    {
      "cell_type": "markdown",
      "metadata": {
        "id": "feFqm_ocxRjV"
      },
      "source": [
        "### Plot time series of sensor data"
      ]
    },
    {
      "cell_type": "code",
      "metadata": {
        "colab": {
          "base_uri": "https://localhost:8080/",
          "height": 357
        },
        "id": "AM_CyVjawlzM",
        "outputId": "ac0c8dd8-6b77-49a8-df95-47ac36a6acaa"
      },
      "source": [
        "iot_data.plot(x='date', y='accel_x', figsize=(10,5), title='Ax')\n",
        "plt.xticks(rotation=90)\n",
        "plt.show()"
      ],
      "execution_count": null,
      "outputs": [
        {
          "output_type": "display_data",
          "data": {
            "text/plain": [
              "<Figure size 720x360 with 1 Axes>"
            ],
            "image/png": "[encoded data removed]"
          },
          "metadata": {
            "needs_background": "light"
          }
        }
      ]
    },
    {
      "cell_type": "code",
      "metadata": {
        "colab": {
          "base_uri": "https://localhost:8080/",
          "height": 357
        },
        "id": "MbaBO6uRKCjj",
        "outputId": "ca883ef9-c216-4861-a547-b9e7cdc38452"
      },
      "source": [
        "iot_data.plot(x='date', y='gyro_x', figsize=(10,5), title='Gx')\n",
        "plt.xticks(rotation=90)\n",
        "plt.show()"
      ],
      "execution_count": null,
      "outputs": [
        {
          "output_type": "display_data",
          "data": {
            "text/plain": [
              "<Figure size 720x360 with 1 Axes>"
            ],
            "image/png": "[encoded data removed]"
          },
          "metadata": {
            "needs_background": "light"
          }
        }
      ]
    },
    {
      "cell_type": "markdown",
      "metadata": {
        "id": "4W2OVUXZ0eKc"
      },
      "source": [
        "#### 다중그래프 (multiple graphs)"
      ]
    },
    {
      "cell_type": "code",
      "metadata": {
        "colab": {
          "base_uri": "https://localhost:8080/",
          "height": 362
        },
        "id": "7XiF7ghFwlzc",
        "outputId": "4a6d225a-ec91-4323-9107-f23df2c43353"
      },
      "source": [
        "# 3축 가속도를 아래에 그리시오.\n",
        "iot_data.plot(x='date', y=['accel_x','accel_y','accel_z'], figsize=(10,5), title='Ax, Ay, Az')"
      ],
      "execution_count": null,
      "outputs": [
        {
          "output_type": "execute_result",
          "data": {
            "text/plain": [
              "<matplotlib.axes._subplots.AxesSubplot at 0x7fedc5081610>"
            ]
          },
          "metadata": {},
          "execution_count": 23
        },
        {
          "output_type": "display_data",
          "data": {
            "text/plain": [
              "<Figure size 720x360 with 1 Axes>"
            ],
            "image/png": "[encoded data removed]"
          },
          "metadata": {
            "needs_background": "light"
          }
        }
      ]
    },
    {
      "cell_type": "markdown",
      "source": [
        "### [DIY-2] "
      ],
      "metadata": {
        "id": "vTrobcQvui61"
      }
    },
    {
      "cell_type": "code",
      "metadata": {
        "colab": {
          "base_uri": "https://localhost:8080/",
          "height": 362
        },
        "outputId": "f3c5fe8c-e5a6-4c89-b666-6bb9d415875d",
        "id": "VcaWhpJKvCIr"
      },
      "source": [
        "# 3축 자이로 신호를 아래에 그리시오.\n",
        "iot_data.plot(x='date', y=['gyro_x','gyro_y','gyro_z'] , figsize=(10,5), title='Gx, Gy, Gz')"
      ],
      "execution_count": null,
      "outputs": [
        {
          "output_type": "execute_result",
          "data": {
            "text/plain": [
              "<matplotlib.axes._subplots.AxesSubplot at 0x7fedc509eb50>"
            ]
          },
          "metadata": {},
          "execution_count": 24
        },
        {
          "output_type": "display_data",
          "data": {
            "text/plain": [
              "<Figure size 720x360 with 1 Axes>"
            ],
            "image/png": "[encoded data removed]"
          },
          "metadata": {
            "needs_background": "light"
          }
        }
      ]
    },
    {
      "cell_type": "markdown",
      "source": [
        "### [DIY-3] "
      ],
      "metadata": {
        "id": "DwG4n6g-wRN4"
      }
    },
    {
      "cell_type": "code",
      "metadata": {
        "colab": {
          "base_uri": "https://localhost:8080/",
          "height": 362
        },
        "outputId": "153b4464-8a2e-4b7b-c487-5108cbefcfd9",
        "id": "qbZXM16Vvbcv"
      },
      "source": [
        "# Ax, Gx,Mx 신호를 아래에 그리시오.\n",
        "iot_data.plot(x='date', y=['accel_x','gyro_x','mag_x'] , figsize=(10,5), title='Ax, Gx, Mx')"
      ],
      "execution_count": null,
      "outputs": [
        {
          "output_type": "execute_result",
          "data": {
            "text/plain": [
              "<matplotlib.axes._subplots.AxesSubplot at 0x7fedc5081d90>"
            ]
          },
          "metadata": {},
          "execution_count": 25
        },
        {
          "output_type": "display_data",
          "data": {
            "text/plain": [
              "<Figure size 720x360 with 1 Axes>"
            ],
            "image/png": "[encoded data removed]"
          },
          "metadata": {
            "needs_background": "light"
          }
        }
      ]
    },
    {
      "cell_type": "markdown",
      "metadata": {
        "id": "6yaOaE05xthv"
      },
      "source": [
        "### Plot the mean of sensor data\n",
        "### [DIY-4] 아래 코드를 참조해서 Az,Gz,Mz의 평균을 구하고 막대 그래프로 그리시오."
      ]
    },
    {
      "cell_type": "code",
      "metadata": {
        "colab": {
          "base_uri": "https://localhost:8080/"
        },
        "id": "455qOpbbwlzp",
        "outputId": "e8aed974-44b1-4afb-b96a-8a06362f62b0"
      },
      "source": [
        "iot_data[['accel_z','gyro_z','mag_z']].mean()  "
      ],
      "execution_count": null,
      "outputs": [
        {
          "output_type": "execute_result",
          "data": {
            "text/plain": [
              "accel_z     0.940492\n",
              "gyro_z     -0.305334\n",
              "mag_z     -50.910645\n",
              "dtype: float64"
            ]
          },
          "metadata": {},
          "execution_count": 26
        }
      ]
    },
    {
      "cell_type": "code",
      "metadata": {
        "colab": {
          "base_uri": "https://localhost:8080/",
          "height": 380
        },
        "id": "26ZUc5ULwlzw",
        "outputId": "80ae50ef-4ca1-4525-ac9b-1b335e4e23c9"
      },
      "source": [
        "iot_data[['accel_z','gyro_z','mag_z']].mean().plot.bar(figsize=(8,5), \n",
        "                                                                  title=\"Mean of temperature, humidity, and luminosity\")"
      ],
      "execution_count": null,
      "outputs": [
        {
          "output_type": "execute_result",
          "data": {
            "text/plain": [
              "<matplotlib.axes._subplots.AxesSubplot at 0x7fedc5e00b50>"
            ]
          },
          "metadata": {},
          "execution_count": 27
        },
        {
          "output_type": "display_data",
          "data": {
            "text/plain": [
              "<Figure size 576x360 with 1 Axes>"
            ],
            "image/png": "[encoded data removed]"
          },
          "metadata": {
            "needs_background": "light"
          }
        }
      ]
    },
    {
      "cell_type": "markdown",
      "metadata": {
        "id": "DwAOwL1kdEUn"
      },
      "source": [
        "# Advanced graphics using pandas"
      ]
    },
    {
      "cell_type": "markdown",
      "metadata": {
        "id": "LxgcWZ2wx6TQ"
      },
      "source": [
        "### Plot the change of sensor data over various time spans.\n",
        "\n",
        "> time span: 60 sec, 1 hour, 1 day, $\\cdots$"
      ]
    },
    {
      "cell_type": "code",
      "metadata": {
        "id": "xopxI05ggHJb",
        "colab": {
          "base_uri": "https://localhost:8080/",
          "height": 206
        },
        "outputId": "fd9cdca8-ebe5-490c-fd44-591e3dda02b2"
      },
      "source": [
        "iot_data.head()"
      ],
      "execution_count": null,
      "outputs": [
        {
          "output_type": "execute_result",
          "data": {
            "text/plain": [
              "                     date  accel_x  accel_y  accel_z  gyro_x  gyro_y  gyro_z  \\\n",
              "0 2022-12-15 10:37:33.724     0.03    -0.01     0.99   -0.18   -3.54   -0.31   \n",
              "1 2022-12-15 10:37:34.233     0.03    -0.01     0.99   -0.24   -3.60   -0.24   \n",
              "2 2022-12-15 10:37:34.742     0.03    -0.01     0.99   -0.06   -3.54   -0.24   \n",
              "3 2022-12-15 10:37:35.251     0.03    -0.01     0.99   -0.24   -3.48   -0.31   \n",
              "4 2022-12-15 10:37:35.760     0.03    -0.01     0.99   -0.24   -3.54   -0.31   \n",
              "\n",
              "   mag_x  mag_y  mag_z  \n",
              "0 -12.12  16.19 -42.16  \n",
              "1 -11.82  16.52 -41.88  \n",
              "2 -12.05  16.16 -41.75  \n",
              "3 -12.06  16.21 -41.61  \n",
              "4 -12.00  16.31 -42.70  "
            ],
            "text/html": [
              "\n",
              "  <div id=\"df-3cfff2d4-b42e-4c34-a1a7-76231c96b22b\">\n",
              "    <div class=\"colab-df-container\">\n",
              "      <div>\n",
              "<style scoped>\n",
              "    .dataframe tbody tr th:only-of-type {\n",
              "        vertical-align: middle;\n",
              "    }\n",
              "\n",
              "    .dataframe tbody tr th {\n",
              "        vertical-align: top;\n",
              "    }\n",
              "\n",
              "    .dataframe thead th {\n",
              "        text-align: right;\n",
              "    }\n",
              "</style>\n",
              "<table border=\"1\" class=\"dataframe\">\n",
              "  <thead>\n",
              "    <tr style=\"text-align: right;\">\n",
              "      <th></th>\n",
              "      <th>date</th>\n",
              "      <th>accel_x</th>\n",
              "      <th>accel_y</th>\n",
              "      <th>accel_z</th>\n",
              "      <th>gyro_x</th>\n",
              "      <th>gyro_y</th>\n",
              "      <th>gyro_z</th>\n",
              "      <th>mag_x</th>\n",
              "      <th>mag_y</th>\n",
              "      <th>mag_z</th>\n",
              "    </tr>\n",
              "  </thead>\n",
              "  <tbody>\n",
              "    <tr>\n",
              "      <th>0</th>\n",
              "      <td>2022-12-15 10:37:33.724</td>\n",
              "      <td>0.03</td>\n",
              "      <td>-0.01</td>\n",
              "      <td>0.99</td>\n",
              "      <td>-0.18</td>\n",
              "      <td>-3.54</td>\n",
              "      <td>-0.31</td>\n",
              "      <td>-12.12</td>\n",
              "      <td>16.19</td>\n",
              "      <td>-42.16</td>\n",
              "    </tr>\n",
              "    <tr>\n",
              "      <th>1</th>\n",
              "      <td>2022-12-15 10:37:34.233</td>\n",
              "      <td>0.03</td>\n",
              "      <td>-0.01</td>\n",
              "      <td>0.99</td>\n",
              "      <td>-0.24</td>\n",
              "      <td>-3.60</td>\n",
              "      <td>-0.24</td>\n",
              "      <td>-11.82</td>\n",
              "      <td>16.52</td>\n",
              "      <td>-41.88</td>\n",
              "    </tr>\n",
              "    <tr>\n",
              "      <th>2</th>\n",
              "      <td>2022-12-15 10:37:34.742</td>\n",
              "      <td>0.03</td>\n",
              "      <td>-0.01</td>\n",
              "      <td>0.99</td>\n",
              "      <td>-0.06</td>\n",
              "      <td>-3.54</td>\n",
              "      <td>-0.24</td>\n",
              "      <td>-12.05</td>\n",
              "      <td>16.16</td>\n",
              "      <td>-41.75</td>\n",
              "    </tr>\n",
              "    <tr>\n",
              "      <th>3</th>\n",
              "      <td>2022-12-15 10:37:35.251</td>\n",
              "      <td>0.03</td>\n",
              "      <td>-0.01</td>\n",
              "      <td>0.99</td>\n",
              "      <td>-0.24</td>\n",
              "      <td>-3.48</td>\n",
              "      <td>-0.31</td>\n",
              "      <td>-12.06</td>\n",
              "      <td>16.21</td>\n",
              "      <td>-41.61</td>\n",
              "    </tr>\n",
              "    <tr>\n",
              "      <th>4</th>\n",
              "      <td>2022-12-15 10:37:35.760</td>\n",
              "      <td>0.03</td>\n",
              "      <td>-0.01</td>\n",
              "      <td>0.99</td>\n",
              "      <td>-0.24</td>\n",
              "      <td>-3.54</td>\n",
              "      <td>-0.31</td>\n",
              "      <td>-12.00</td>\n",
              "      <td>16.31</td>\n",
              "      <td>-42.70</td>\n",
              "    </tr>\n",
              "  </tbody>\n",
              "</table>\n",
              "</div>\n",
              "      <button class=\"colab-df-convert\" onclick=\"convertToInteractive('df-3cfff2d4-b42e-4c34-a1a7-76231c96b22b')\"\n",
              "              title=\"Convert this dataframe to an interactive table.\"\n",
              "              style=\"display:none;\">\n",
              "        \n",
              "  <svg xmlns=\"http://www.w3.org/2000/svg\" height=\"24px\"viewBox=\"0 0 24 24\"\n",
              "       width=\"24px\">\n",
              "    <path d=\"M0 0h24v24H0V0z\" fill=\"none\"/>\n",
              "    <path d=\"M18.56 5.44l.94 2.06.94-2.06 2.06-.94-2.06-.94-.94-2.06-.94 2.06-2.06.94zm-11 1L8.5 8.5l.94-2.06 2.06-.94-2.06-.94L8.5 2.5l-.94 2.06-2.06.94zm10 10l.94 2.06.94-2.06 2.06-.94-2.06-.94-.94-2.06-.94 2.06-2.06.94z\"/><path d=\"M17.41 7.96l-1.37-1.37c-.4-.4-.92-.59-1.43-.59-.52 0-1.04.2-1.43.59L10.3 9.45l-7.72 7.72c-.78.78-.78 2.05 0 2.83L4 21.41c.39.39.9.59 1.41.59.51 0 1.02-.2 1.41-.59l7.78-7.78 2.81-2.81c.8-.78.8-2.07 0-2.86zM5.41 20L4 18.59l7.72-7.72 1.47 1.35L5.41 20z\"/>\n",
              "  </svg>\n",
              "      </button>\n",
              "      \n",
              "  <style>\n",
              "    .colab-df-container {\n",
              "      display:flex;\n",
              "      flex-wrap:wrap;\n",
              "      gap: 12px;\n",
              "    }\n",
              "\n",
              "    .colab-df-convert {\n",
              "      background-color: #E8F0FE;\n",
              "      border: none;\n",
              "      border-radius: 50%;\n",
              "      cursor: pointer;\n",
              "      display: none;\n",
              "      fill: #1967D2;\n",
              "      height: 32px;\n",
              "      padding: 0 0 0 0;\n",
              "      width: 32px;\n",
              "    }\n",
              "\n",
              "    .colab-df-convert:hover {\n",
              "      background-color: #E2EBFA;\n",
              "      box-shadow: 0px 1px 2px rgba(60, 64, 67, 0.3), 0px 1px 3px 1px rgba(60, 64, 67, 0.15);\n",
              "      fill: #174EA6;\n",
              "    }\n",
              "\n",
              "    [theme=dark] .colab-df-convert {\n",
              "      background-color: #3B4455;\n",
              "      fill: #D2E3FC;\n",
              "    }\n",
              "\n",
              "    [theme=dark] .colab-df-convert:hover {\n",
              "      background-color: #434B5C;\n",
              "      box-shadow: 0px 1px 3px 1px rgba(0, 0, 0, 0.15);\n",
              "      filter: drop-shadow(0px 1px 2px rgba(0, 0, 0, 0.3));\n",
              "      fill: #FFFFFF;\n",
              "    }\n",
              "  </style>\n",
              "\n",
              "      <script>\n",
              "        const buttonEl =\n",
              "          document.querySelector('#df-3cfff2d4-b42e-4c34-a1a7-76231c96b22b button.colab-df-convert');\n",
              "        buttonEl.style.display =\n",
              "          google.colab.kernel.accessAllowed ? 'block' : 'none';\n",
              "\n",
              "        async function convertToInteractive(key) {\n",
              "          const element = document.querySelector('#df-3cfff2d4-b42e-4c34-a1a7-76231c96b22b');\n",
              "          const dataTable =\n",
              "            await google.colab.kernel.invokeFunction('convertToInteractive',\n",
              "                                                     [key], {});\n",
              "          if (!dataTable) return;\n",
              "\n",
              "          const docLinkHtml = 'Like what you see? Visit the ' +\n",
              "            '<a target=\"_blank\" href=https://colab.research.google.com/notebooks/data_table.ipynb>data table notebook</a>'\n",
              "            + ' to learn more about interactive tables.';\n",
              "          element.innerHTML = '';\n",
              "          dataTable['output_type'] = 'display_data';\n",
              "          await google.colab.output.renderOutput(dataTable, element);\n",
              "          const docLink = document.createElement('div');\n",
              "          docLink.innerHTML = docLinkHtml;\n",
              "          element.appendChild(docLink);\n",
              "        }\n",
              "      </script>\n",
              "    </div>\n",
              "  </div>\n",
              "  "
            ]
          },
          "metadata": {},
          "execution_count": 28
        }
      ]
    },
    {
      "cell_type": "markdown",
      "metadata": {
        "id": "ndt4b_ZTwlz1"
      },
      "source": [
        "#### Set date as index of timestamp"
      ]
    },
    {
      "cell_type": "code",
      "metadata": {
        "id": "V6MpkrDhwlz2"
      },
      "source": [
        "iot_data.set_index('date',inplace=True)"
      ],
      "execution_count": null,
      "outputs": []
    },
    {
      "cell_type": "code",
      "metadata": {
        "colab": {
          "base_uri": "https://localhost:8080/",
          "height": 238
        },
        "id": "w9ztE8jDUAta",
        "outputId": "19c14cac-0b5d-40ca-c940-7b29b584b040"
      },
      "source": [
        "iot_data.head()"
      ],
      "execution_count": null,
      "outputs": [
        {
          "output_type": "execute_result",
          "data": {
            "text/plain": [
              "                         accel_x  accel_y  accel_z  gyro_x  gyro_y  gyro_z  \\\n",
              "date                                                                         \n",
              "2022-12-15 10:37:33.724     0.03    -0.01     0.99   -0.18   -3.54   -0.31   \n",
              "2022-12-15 10:37:34.233     0.03    -0.01     0.99   -0.24   -3.60   -0.24   \n",
              "2022-12-15 10:37:34.742     0.03    -0.01     0.99   -0.06   -3.54   -0.24   \n",
              "2022-12-15 10:37:35.251     0.03    -0.01     0.99   -0.24   -3.48   -0.31   \n",
              "2022-12-15 10:37:35.760     0.03    -0.01     0.99   -0.24   -3.54   -0.31   \n",
              "\n",
              "                         mag_x  mag_y  mag_z  \n",
              "date                                          \n",
              "2022-12-15 10:37:33.724 -12.12  16.19 -42.16  \n",
              "2022-12-15 10:37:34.233 -11.82  16.52 -41.88  \n",
              "2022-12-15 10:37:34.742 -12.05  16.16 -41.75  \n",
              "2022-12-15 10:37:35.251 -12.06  16.21 -41.61  \n",
              "2022-12-15 10:37:35.760 -12.00  16.31 -42.70  "
            ],
            "text/html": [
              "\n",
              "  <div id=\"df-cf4bc0e9-fc0d-406b-8f5a-761d2bb6c3f3\">\n",
              "    <div class=\"colab-df-container\">\n",
              "      <div>\n",
              "<style scoped>\n",
              "    .dataframe tbody tr th:only-of-type {\n",
              "        vertical-align: middle;\n",
              "    }\n",
              "\n",
              "    .dataframe tbody tr th {\n",
              "        vertical-align: top;\n",
              "    }\n",
              "\n",
              "    .dataframe thead th {\n",
              "        text-align: right;\n",
              "    }\n",
              "</style>\n",
              "<table border=\"1\" class=\"dataframe\">\n",
              "  <thead>\n",
              "    <tr style=\"text-align: right;\">\n",
              "      <th></th>\n",
              "      <th>accel_x</th>\n",
              "      <th>accel_y</th>\n",
              "      <th>accel_z</th>\n",
              "      <th>gyro_x</th>\n",
              "      <th>gyro_y</th>\n",
              "      <th>gyro_z</th>\n",
              "      <th>mag_x</th>\n",
              "      <th>mag_y</th>\n",
              "      <th>mag_z</th>\n",
              "    </tr>\n",
              "    <tr>\n",
              "      <th>date</th>\n",
              "      <th></th>\n",
              "      <th></th>\n",
              "      <th></th>\n",
              "      <th></th>\n",
              "      <th></th>\n",
              "      <th></th>\n",
              "      <th></th>\n",
              "      <th></th>\n",
              "      <th></th>\n",
              "    </tr>\n",
              "  </thead>\n",
              "  <tbody>\n",
              "    <tr>\n",
              "      <th>2022-12-15 10:37:33.724</th>\n",
              "      <td>0.03</td>\n",
              "      <td>-0.01</td>\n",
              "      <td>0.99</td>\n",
              "      <td>-0.18</td>\n",
              "      <td>-3.54</td>\n",
              "      <td>-0.31</td>\n",
              "      <td>-12.12</td>\n",
              "      <td>16.19</td>\n",
              "      <td>-42.16</td>\n",
              "    </tr>\n",
              "    <tr>\n",
              "      <th>2022-12-15 10:37:34.233</th>\n",
              "      <td>0.03</td>\n",
              "      <td>-0.01</td>\n",
              "      <td>0.99</td>\n",
              "      <td>-0.24</td>\n",
              "      <td>-3.60</td>\n",
              "      <td>-0.24</td>\n",
              "      <td>-11.82</td>\n",
              "      <td>16.52</td>\n",
              "      <td>-41.88</td>\n",
              "    </tr>\n",
              "    <tr>\n",
              "      <th>2022-12-15 10:37:34.742</th>\n",
              "      <td>0.03</td>\n",
              "      <td>-0.01</td>\n",
              "      <td>0.99</td>\n",
              "      <td>-0.06</td>\n",
              "      <td>-3.54</td>\n",
              "      <td>-0.24</td>\n",
              "      <td>-12.05</td>\n",
              "      <td>16.16</td>\n",
              "      <td>-41.75</td>\n",
              "    </tr>\n",
              "    <tr>\n",
              "      <th>2022-12-15 10:37:35.251</th>\n",
              "      <td>0.03</td>\n",
              "      <td>-0.01</td>\n",
              "      <td>0.99</td>\n",
              "      <td>-0.24</td>\n",
              "      <td>-3.48</td>\n",
              "      <td>-0.31</td>\n",
              "      <td>-12.06</td>\n",
              "      <td>16.21</td>\n",
              "      <td>-41.61</td>\n",
              "    </tr>\n",
              "    <tr>\n",
              "      <th>2022-12-15 10:37:35.760</th>\n",
              "      <td>0.03</td>\n",
              "      <td>-0.01</td>\n",
              "      <td>0.99</td>\n",
              "      <td>-0.24</td>\n",
              "      <td>-3.54</td>\n",
              "      <td>-0.31</td>\n",
              "      <td>-12.00</td>\n",
              "      <td>16.31</td>\n",
              "      <td>-42.70</td>\n",
              "    </tr>\n",
              "  </tbody>\n",
              "</table>\n",
              "</div>\n",
              "      <button class=\"colab-df-convert\" onclick=\"convertToInteractive('df-cf4bc0e9-fc0d-406b-8f5a-761d2bb6c3f3')\"\n",
              "              title=\"Convert this dataframe to an interactive table.\"\n",
              "              style=\"display:none;\">\n",
              "        \n",
              "  <svg xmlns=\"http://www.w3.org/2000/svg\" height=\"24px\"viewBox=\"0 0 24 24\"\n",
              "       width=\"24px\">\n",
              "    <path d=\"M0 0h24v24H0V0z\" fill=\"none\"/>\n",
              "    <path d=\"M18.56 5.44l.94 2.06.94-2.06 2.06-.94-2.06-.94-.94-2.06-.94 2.06-2.06.94zm-11 1L8.5 8.5l.94-2.06 2.06-.94-2.06-.94L8.5 2.5l-.94 2.06-2.06.94zm10 10l.94 2.06.94-2.06 2.06-.94-2.06-.94-.94-2.06-.94 2.06-2.06.94z\"/><path d=\"M17.41 7.96l-1.37-1.37c-.4-.4-.92-.59-1.43-.59-.52 0-1.04.2-1.43.59L10.3 9.45l-7.72 7.72c-.78.78-.78 2.05 0 2.83L4 21.41c.39.39.9.59 1.41.59.51 0 1.02-.2 1.41-.59l7.78-7.78 2.81-2.81c.8-.78.8-2.07 0-2.86zM5.41 20L4 18.59l7.72-7.72 1.47 1.35L5.41 20z\"/>\n",
              "  </svg>\n",
              "      </button>\n",
              "      \n",
              "  <style>\n",
              "    .colab-df-container {\n",
              "      display:flex;\n",
              "      flex-wrap:wrap;\n",
              "      gap: 12px;\n",
              "    }\n",
              "\n",
              "    .colab-df-convert {\n",
              "      background-color: #E8F0FE;\n",
              "      border: none;\n",
              "      border-radius: 50%;\n",
              "      cursor: pointer;\n",
              "      display: none;\n",
              "      fill: #1967D2;\n",
              "      height: 32px;\n",
              "      padding: 0 0 0 0;\n",
              "      width: 32px;\n",
              "    }\n",
              "\n",
              "    .colab-df-convert:hover {\n",
              "      background-color: #E2EBFA;\n",
              "      box-shadow: 0px 1px 2px rgba(60, 64, 67, 0.3), 0px 1px 3px 1px rgba(60, 64, 67, 0.15);\n",
              "      fill: #174EA6;\n",
              "    }\n",
              "\n",
              "    [theme=dark] .colab-df-convert {\n",
              "      background-color: #3B4455;\n",
              "      fill: #D2E3FC;\n",
              "    }\n",
              "\n",
              "    [theme=dark] .colab-df-convert:hover {\n",
              "      background-color: #434B5C;\n",
              "      box-shadow: 0px 1px 3px 1px rgba(0, 0, 0, 0.15);\n",
              "      filter: drop-shadow(0px 1px 2px rgba(0, 0, 0, 0.3));\n",
              "      fill: #FFFFFF;\n",
              "    }\n",
              "  </style>\n",
              "\n",
              "      <script>\n",
              "        const buttonEl =\n",
              "          document.querySelector('#df-cf4bc0e9-fc0d-406b-8f5a-761d2bb6c3f3 button.colab-df-convert');\n",
              "        buttonEl.style.display =\n",
              "          google.colab.kernel.accessAllowed ? 'block' : 'none';\n",
              "\n",
              "        async function convertToInteractive(key) {\n",
              "          const element = document.querySelector('#df-cf4bc0e9-fc0d-406b-8f5a-761d2bb6c3f3');\n",
              "          const dataTable =\n",
              "            await google.colab.kernel.invokeFunction('convertToInteractive',\n",
              "                                                     [key], {});\n",
              "          if (!dataTable) return;\n",
              "\n",
              "          const docLinkHtml = 'Like what you see? Visit the ' +\n",
              "            '<a target=\"_blank\" href=https://colab.research.google.com/notebooks/data_table.ipynb>data table notebook</a>'\n",
              "            + ' to learn more about interactive tables.';\n",
              "          element.innerHTML = '';\n",
              "          dataTable['output_type'] = 'display_data';\n",
              "          await google.colab.output.renderOutput(dataTable, element);\n",
              "          const docLink = document.createElement('div');\n",
              "          docLink.innerHTML = docLinkHtml;\n",
              "          element.appendChild(docLink);\n",
              "        }\n",
              "      </script>\n",
              "    </div>\n",
              "  </div>\n",
              "  "
            ]
          },
          "metadata": {},
          "execution_count": 31
        }
      ]
    },
    {
      "cell_type": "code",
      "metadata": {
        "colab": {
          "base_uri": "https://localhost:8080/"
        },
        "id": "HR2XersJUIH2",
        "outputId": "dd1f5b96-43d1-40f4-8a03-07b96837c769"
      },
      "source": [
        "iot_data.info()"
      ],
      "execution_count": null,
      "outputs": [
        {
          "output_type": "stream",
          "name": "stdout",
          "text": [
            "<class 'pandas.core.frame.DataFrame'>\n",
            "DatetimeIndex: 31600 entries, 2022-12-15 10:37:33.724000 to 2022-12-15 15:06:32.190000\n",
            "Data columns (total 9 columns):\n",
            " #   Column   Non-Null Count  Dtype  \n",
            "---  ------   --------------  -----  \n",
            " 0   accel_x  31600 non-null  float64\n",
            " 1   accel_y  31600 non-null  float64\n",
            " 2   accel_z  31600 non-null  float64\n",
            " 3   gyro_x   31600 non-null  float64\n",
            " 4   gyro_y   31600 non-null  float64\n",
            " 5   gyro_z   31600 non-null  float64\n",
            " 6   mag_x    31600 non-null  float64\n",
            " 7   mag_y    31600 non-null  float64\n",
            " 8   mag_z    31600 non-null  float64\n",
            "dtypes: float64(9)\n",
            "memory usage: 2.4 MB\n"
          ]
        }
      ]
    },
    {
      "cell_type": "code",
      "metadata": {
        "id": "g1MtmghfiQk7"
      },
      "source": [
        "# Convert date index to Datetime index, 중요!!!\n",
        "iot_data.index = pd.to_datetime(iot_data.index)"
      ],
      "execution_count": null,
      "outputs": []
    },
    {
      "cell_type": "code",
      "metadata": {
        "colab": {
          "base_uri": "https://localhost:8080/"
        },
        "id": "gY7QvLKbwlz5",
        "outputId": "f68aea32-c131-4fe0-cbca-4e61b99433df"
      },
      "source": [
        "iot_data.info() # Range index -> timestamp(Datetime) index "
      ],
      "execution_count": null,
      "outputs": [
        {
          "output_type": "stream",
          "name": "stdout",
          "text": [
            "<class 'pandas.core.frame.DataFrame'>\n",
            "DatetimeIndex: 31600 entries, 2022-12-15 10:37:33.724000 to 2022-12-15 15:06:32.190000\n",
            "Data columns (total 9 columns):\n",
            " #   Column   Non-Null Count  Dtype  \n",
            "---  ------   --------------  -----  \n",
            " 0   accel_x  31600 non-null  float64\n",
            " 1   accel_y  31600 non-null  float64\n",
            " 2   accel_z  31600 non-null  float64\n",
            " 3   gyro_x   31600 non-null  float64\n",
            " 4   gyro_y   31600 non-null  float64\n",
            " 5   gyro_z   31600 non-null  float64\n",
            " 6   mag_x    31600 non-null  float64\n",
            " 7   mag_y    31600 non-null  float64\n",
            " 8   mag_z    31600 non-null  float64\n",
            "dtypes: float64(9)\n",
            "memory usage: 2.4 MB\n"
          ]
        }
      ]
    },
    {
      "cell_type": "code",
      "metadata": {
        "colab": {
          "base_uri": "https://localhost:8080/",
          "height": 455
        },
        "id": "TDkJgBRJwl0D",
        "outputId": "a9b3df24-61b3-4f84-b707-29436936d771"
      },
      "source": [
        "# Estimate the mean of the iot data for every minute\n",
        "iot_data.resample('60S').mean()"
      ],
      "execution_count": null,
      "outputs": [
        {
          "output_type": "execute_result",
          "data": {
            "text/plain": [
              "                      accel_x   accel_y   accel_z     gyro_x     gyro_y  \\\n",
              "date                                                                      \n",
              "2022-12-15 10:37:00  0.030000 -0.010000  0.990000  -0.209808  -3.557308   \n",
              "2022-12-15 10:38:00 -0.188898 -0.413898  0.164322  13.618898   6.464746   \n",
              "2022-12-15 10:39:00 -1.056949  0.154237  0.225932  -8.265424 -25.913983   \n",
              "2022-12-15 10:40:00 -0.502119  0.141186  0.332542  15.531525  11.551102   \n",
              "2022-12-15 10:41:00 -0.499322  0.028136  0.655424  -5.107034   5.616356   \n",
              "...                       ...       ...       ...        ...        ...   \n",
              "2022-12-15 15:02:00  0.034322 -0.003220  0.990000  -0.262119  -3.532288   \n",
              "2022-12-15 15:03:00  0.033590 -0.003761  0.990000  -0.254359  -3.526752   \n",
              "2022-12-15 15:04:00  0.033729 -0.003644  0.990085  -0.276102  -3.543559   \n",
              "2022-12-15 15:05:00  0.033729 -0.002542  0.990169  -0.245932  -3.511864   \n",
              "2022-12-15 15:06:00  0.034375 -0.002656  0.990000  -0.251562  -3.572812   \n",
              "\n",
              "                        gyro_z      mag_x      mag_y      mag_z  \n",
              "date                                                             \n",
              "2022-12-15 10:37:00  -0.279423 -11.958846  16.287692 -42.217885  \n",
              "2022-12-15 10:38:00  12.954153   2.220085  23.822458 -11.327034  \n",
              "2022-12-15 10:39:00 -26.685678 -11.120339   8.269661 -19.876525  \n",
              "2022-12-15 10:40:00 -14.099915  -4.763475  -1.187881 -22.533136  \n",
              "2022-12-15 10:41:00  -5.345508   6.075254   0.390000 -29.213475  \n",
              "...                        ...        ...        ...        ...  \n",
              "2022-12-15 15:02:00  -0.284492 -11.654576  -1.955339 -55.025339  \n",
              "2022-12-15 15:03:00  -0.303590 -11.570684  -1.904957 -54.831624  \n",
              "2022-12-15 15:04:00  -0.300678 -11.516017  -1.794746 -54.971102  \n",
              "2022-12-15 15:05:00  -0.268051 -11.774492  -1.755932 -54.798220  \n",
              "2022-12-15 15:06:00  -0.289219 -11.785625  -1.739062 -54.911250  \n",
              "\n",
              "[270 rows x 9 columns]"
            ],
            "text/html": [
              "\n",
              "  <div id=\"df-329a8bc8-dd5a-490e-a4df-db6d241f9e6f\">\n",
              "    <div class=\"colab-df-container\">\n",
              "      <div>\n",
              "<style scoped>\n",
              "    .dataframe tbody tr th:only-of-type {\n",
              "        vertical-align: middle;\n",
              "    }\n",
              "\n",
              "    .dataframe tbody tr th {\n",
              "        vertical-align: top;\n",
              "    }\n",
              "\n",
              "    .dataframe thead th {\n",
              "        text-align: right;\n",
              "    }\n",
              "</style>\n",
              "<table border=\"1\" class=\"dataframe\">\n",
              "  <thead>\n",
              "    <tr style=\"text-align: right;\">\n",
              "      <th></th>\n",
              "      <th>accel_x</th>\n",
              "      <th>accel_y</th>\n",
              "      <th>accel_z</th>\n",
              "      <th>gyro_x</th>\n",
              "      <th>gyro_y</th>\n",
              "      <th>gyro_z</th>\n",
              "      <th>mag_x</th>\n",
              "      <th>mag_y</th>\n",
              "      <th>mag_z</th>\n",
              "    </tr>\n",
              "    <tr>\n",
              "      <th>date</th>\n",
              "      <th></th>\n",
              "      <th></th>\n",
              "      <th></th>\n",
              "      <th></th>\n",
              "      <th></th>\n",
              "      <th></th>\n",
              "      <th></th>\n",
              "      <th></th>\n",
              "      <th></th>\n",
              "    </tr>\n",
              "  </thead>\n",
              "  <tbody>\n",
              "    <tr>\n",
              "      <th>2022-12-15 10:37:00</th>\n",
              "      <td>0.030000</td>\n",
              "      <td>-0.010000</td>\n",
              "      <td>0.990000</td>\n",
              "      <td>-0.209808</td>\n",
              "      <td>-3.557308</td>\n",
              "      <td>-0.279423</td>\n",
              "      <td>-11.958846</td>\n",
              "      <td>16.287692</td>\n",
              "      <td>-42.217885</td>\n",
              "    </tr>\n",
              "    <tr>\n",
              "      <th>2022-12-15 10:38:00</th>\n",
              "      <td>-0.188898</td>\n",
              "      <td>-0.413898</td>\n",
              "      <td>0.164322</td>\n",
              "      <td>13.618898</td>\n",
              "      <td>6.464746</td>\n",
              "      <td>12.954153</td>\n",
              "      <td>2.220085</td>\n",
              "      <td>23.822458</td>\n",
              "      <td>-11.327034</td>\n",
              "    </tr>\n",
              "    <tr>\n",
              "      <th>2022-12-15 10:39:00</th>\n",
              "      <td>-1.056949</td>\n",
              "      <td>0.154237</td>\n",
              "      <td>0.225932</td>\n",
              "      <td>-8.265424</td>\n",
              "      <td>-25.913983</td>\n",
              "      <td>-26.685678</td>\n",
              "      <td>-11.120339</td>\n",
              "      <td>8.269661</td>\n",
              "      <td>-19.876525</td>\n",
              "    </tr>\n",
              "    <tr>\n",
              "      <th>2022-12-15 10:40:00</th>\n",
              "      <td>-0.502119</td>\n",
              "      <td>0.141186</td>\n",
              "      <td>0.332542</td>\n",
              "      <td>15.531525</td>\n",
              "      <td>11.551102</td>\n",
              "      <td>-14.099915</td>\n",
              "      <td>-4.763475</td>\n",
              "      <td>-1.187881</td>\n",
              "      <td>-22.533136</td>\n",
              "    </tr>\n",
              "    <tr>\n",
              "      <th>2022-12-15 10:41:00</th>\n",
              "      <td>-0.499322</td>\n",
              "      <td>0.028136</td>\n",
              "      <td>0.655424</td>\n",
              "      <td>-5.107034</td>\n",
              "      <td>5.616356</td>\n",
              "      <td>-5.345508</td>\n",
              "      <td>6.075254</td>\n",
              "      <td>0.390000</td>\n",
              "      <td>-29.213475</td>\n",
              "    </tr>\n",
              "    <tr>\n",
              "      <th>...</th>\n",
              "      <td>...</td>\n",
              "      <td>...</td>\n",
              "      <td>...</td>\n",
              "      <td>...</td>\n",
              "      <td>...</td>\n",
              "      <td>...</td>\n",
              "      <td>...</td>\n",
              "      <td>...</td>\n",
              "      <td>...</td>\n",
              "    </tr>\n",
              "    <tr>\n",
              "      <th>2022-12-15 15:02:00</th>\n",
              "      <td>0.034322</td>\n",
              "      <td>-0.003220</td>\n",
              "      <td>0.990000</td>\n",
              "      <td>-0.262119</td>\n",
              "      <td>-3.532288</td>\n",
              "      <td>-0.284492</td>\n",
              "      <td>-11.654576</td>\n",
              "      <td>-1.955339</td>\n",
              "      <td>-55.025339</td>\n",
              "    </tr>\n",
              "    <tr>\n",
              "      <th>2022-12-15 15:03:00</th>\n",
              "      <td>0.033590</td>\n",
              "      <td>-0.003761</td>\n",
              "      <td>0.990000</td>\n",
              "      <td>-0.254359</td>\n",
              "      <td>-3.526752</td>\n",
              "      <td>-0.303590</td>\n",
              "      <td>-11.570684</td>\n",
              "      <td>-1.904957</td>\n",
              "      <td>-54.831624</td>\n",
              "    </tr>\n",
              "    <tr>\n",
              "      <th>2022-12-15 15:04:00</th>\n",
              "      <td>0.033729</td>\n",
              "      <td>-0.003644</td>\n",
              "      <td>0.990085</td>\n",
              "      <td>-0.276102</td>\n",
              "      <td>-3.543559</td>\n",
              "      <td>-0.300678</td>\n",
              "      <td>-11.516017</td>\n",
              "      <td>-1.794746</td>\n",
              "      <td>-54.971102</td>\n",
              "    </tr>\n",
              "    <tr>\n",
              "      <th>2022-12-15 15:05:00</th>\n",
              "      <td>0.033729</td>\n",
              "      <td>-0.002542</td>\n",
              "      <td>0.990169</td>\n",
              "      <td>-0.245932</td>\n",
              "      <td>-3.511864</td>\n",
              "      <td>-0.268051</td>\n",
              "      <td>-11.774492</td>\n",
              "      <td>-1.755932</td>\n",
              "      <td>-54.798220</td>\n",
              "    </tr>\n",
              "    <tr>\n",
              "      <th>2022-12-15 15:06:00</th>\n",
              "      <td>0.034375</td>\n",
              "      <td>-0.002656</td>\n",
              "      <td>0.990000</td>\n",
              "      <td>-0.251562</td>\n",
              "      <td>-3.572812</td>\n",
              "      <td>-0.289219</td>\n",
              "      <td>-11.785625</td>\n",
              "      <td>-1.739062</td>\n",
              "      <td>-54.911250</td>\n",
              "    </tr>\n",
              "  </tbody>\n",
              "</table>\n",
              "<p>270 rows × 9 columns</p>\n",
              "</div>\n",
              "      <button class=\"colab-df-convert\" onclick=\"convertToInteractive('df-329a8bc8-dd5a-490e-a4df-db6d241f9e6f')\"\n",
              "              title=\"Convert this dataframe to an interactive table.\"\n",
              "              style=\"display:none;\">\n",
              "        \n",
              "  <svg xmlns=\"http://www.w3.org/2000/svg\" height=\"24px\"viewBox=\"0 0 24 24\"\n",
              "       width=\"24px\">\n",
              "    <path d=\"M0 0h24v24H0V0z\" fill=\"none\"/>\n",
              "    <path d=\"M18.56 5.44l.94 2.06.94-2.06 2.06-.94-2.06-.94-.94-2.06-.94 2.06-2.06.94zm-11 1L8.5 8.5l.94-2.06 2.06-.94-2.06-.94L8.5 2.5l-.94 2.06-2.06.94zm10 10l.94 2.06.94-2.06 2.06-.94-2.06-.94-.94-2.06-.94 2.06-2.06.94z\"/><path d=\"M17.41 7.96l-1.37-1.37c-.4-.4-.92-.59-1.43-.59-.52 0-1.04.2-1.43.59L10.3 9.45l-7.72 7.72c-.78.78-.78 2.05 0 2.83L4 21.41c.39.39.9.59 1.41.59.51 0 1.02-.2 1.41-.59l7.78-7.78 2.81-2.81c.8-.78.8-2.07 0-2.86zM5.41 20L4 18.59l7.72-7.72 1.47 1.35L5.41 20z\"/>\n",
              "  </svg>\n",
              "      </button>\n",
              "      \n",
              "  <style>\n",
              "    .colab-df-container {\n",
              "      display:flex;\n",
              "      flex-wrap:wrap;\n",
              "      gap: 12px;\n",
              "    }\n",
              "\n",
              "    .colab-df-convert {\n",
              "      background-color: #E8F0FE;\n",
              "      border: none;\n",
              "      border-radius: 50%;\n",
              "      cursor: pointer;\n",
              "      display: none;\n",
              "      fill: #1967D2;\n",
              "      height: 32px;\n",
              "      padding: 0 0 0 0;\n",
              "      width: 32px;\n",
              "    }\n",
              "\n",
              "    .colab-df-convert:hover {\n",
              "      background-color: #E2EBFA;\n",
              "      box-shadow: 0px 1px 2px rgba(60, 64, 67, 0.3), 0px 1px 3px 1px rgba(60, 64, 67, 0.15);\n",
              "      fill: #174EA6;\n",
              "    }\n",
              "\n",
              "    [theme=dark] .colab-df-convert {\n",
              "      background-color: #3B4455;\n",
              "      fill: #D2E3FC;\n",
              "    }\n",
              "\n",
              "    [theme=dark] .colab-df-convert:hover {\n",
              "      background-color: #434B5C;\n",
              "      box-shadow: 0px 1px 3px 1px rgba(0, 0, 0, 0.15);\n",
              "      filter: drop-shadow(0px 1px 2px rgba(0, 0, 0, 0.3));\n",
              "      fill: #FFFFFF;\n",
              "    }\n",
              "  </style>\n",
              "\n",
              "      <script>\n",
              "        const buttonEl =\n",
              "          document.querySelector('#df-329a8bc8-dd5a-490e-a4df-db6d241f9e6f button.colab-df-convert');\n",
              "        buttonEl.style.display =\n",
              "          google.colab.kernel.accessAllowed ? 'block' : 'none';\n",
              "\n",
              "        async function convertToInteractive(key) {\n",
              "          const element = document.querySelector('#df-329a8bc8-dd5a-490e-a4df-db6d241f9e6f');\n",
              "          const dataTable =\n",
              "            await google.colab.kernel.invokeFunction('convertToInteractive',\n",
              "                                                     [key], {});\n",
              "          if (!dataTable) return;\n",
              "\n",
              "          const docLinkHtml = 'Like what you see? Visit the ' +\n",
              "            '<a target=\"_blank\" href=https://colab.research.google.com/notebooks/data_table.ipynb>data table notebook</a>'\n",
              "            + ' to learn more about interactive tables.';\n",
              "          element.innerHTML = '';\n",
              "          dataTable['output_type'] = 'display_data';\n",
              "          await google.colab.output.renderOutput(dataTable, element);\n",
              "          const docLink = document.createElement('div');\n",
              "          docLink.innerHTML = docLinkHtml;\n",
              "          element.appendChild(docLink);\n",
              "        }\n",
              "      </script>\n",
              "    </div>\n",
              "  </div>\n",
              "  "
            ]
          },
          "metadata": {},
          "execution_count": 33
        }
      ]
    },
    {
      "cell_type": "code",
      "metadata": {
        "colab": {
          "base_uri": "https://localhost:8080/",
          "height": 366
        },
        "id": "pTaucOzzwl0H",
        "outputId": "a18ec79b-16da-4322-bb6c-97de5b2a325a"
      },
      "source": [
        "#  Plot mean of the all iot data per every minute\n",
        "iot_data.resample('60S').mean().plot(figsize=(8,5), \n",
        "                                     title='Minutely change of Acc, Gyro, Mag')\n",
        "plt.legend(bbox_to_anchor=(1.02, 1.0))"
      ],
      "execution_count": null,
      "outputs": [
        {
          "output_type": "execute_result",
          "data": {
            "text/plain": [
              "<matplotlib.legend.Legend at 0x7fedc5ee19a0>"
            ]
          },
          "metadata": {},
          "execution_count": 34
        },
        {
          "output_type": "display_data",
          "data": {
            "text/plain": [
              "<Figure size 576x360 with 1 Axes>"
            ],
            "image/png": "[encoded data removed]"
          },
          "metadata": {
            "needs_background": "light"
          }
        }
      ]
    },
    {
      "cell_type": "markdown",
      "source": [
        "### [DIY-5]  아래 코드를 참조해서 Ay,Gy,My의 2분 평균값의 변화를 보여 주는 그래프를 그리시오."
      ],
      "metadata": {
        "id": "9z0suCUnyY2p"
      }
    },
    {
      "cell_type": "code",
      "metadata": {
        "colab": {
          "base_uri": "https://localhost:8080/",
          "height": 366
        },
        "id": "12Ydfv9ULNBl",
        "outputId": "381ad4ad-cd77-4027-85ee-5fe45ef9d9c8"
      },
      "source": [
        "#  Plot mean of the iot data per every minute\n",
        "iot_data[['accel_y', 'gyro_y', 'mag_y']].resample('120S').mean().plot(figsize=(10,5), \n",
        "                                     title='Minutely change of R, G, B',\n",
        "                                     color=\"rgb\")"
      ],
      "execution_count": null,
      "outputs": [
        {
          "output_type": "execute_result",
          "data": {
            "text/plain": [
              "<matplotlib.axes._subplots.AxesSubplot at 0x7fedc5eb8220>"
            ]
          },
          "metadata": {},
          "execution_count": 35
        },
        {
          "output_type": "display_data",
          "data": {
            "text/plain": [
              "<Figure size 720x360 with 1 Axes>"
            ],
            "image/png": "[encoded data removed]"
          },
          "metadata": {
            "needs_background": "light"
          }
        }
      ]
    },
    {
      "cell_type": "markdown",
      "source": [
        "### 시간 평균 변화화"
      ],
      "metadata": {
        "id": "e4BFrgsR0EUM"
      }
    },
    {
      "cell_type": "code",
      "metadata": {
        "colab": {
          "base_uri": "https://localhost:8080/",
          "height": 269
        },
        "id": "cMHVdg3awl0M",
        "outputId": "18e21844-984e-4df5-8312-231810def5dd"
      },
      "source": [
        "# Estimate the mean of iot data for every hour\n",
        "iot_data.resample('H').mean()  # mean per each hour"
      ],
      "execution_count": null,
      "outputs": [
        {
          "output_type": "execute_result",
          "data": {
            "text/plain": [
              "                      accel_x   accel_y   accel_z    gyro_x    gyro_y  \\\n",
              "date                                                                    \n",
              "2022-12-15 10:00:00 -0.320563  0.076382  0.579894  1.693323 -2.134076   \n",
              "2022-12-15 11:00:00  0.002012 -0.000222  0.967131 -0.238344 -3.671893   \n",
              "2022-12-15 12:00:00  0.024788 -0.005139  0.977710 -0.122556 -3.427648   \n",
              "2022-12-15 13:00:00  0.024613 -0.036221  0.957138 -0.111117 -2.655848   \n",
              "2022-12-15 14:00:00  0.034497 -0.002453  0.990001 -0.259432 -3.520939   \n",
              "2022-12-15 15:00:00  0.033787 -0.003152  0.990052 -0.263113 -3.539105   \n",
              "\n",
              "                       gyro_z      mag_x      mag_y      mag_z  \n",
              "date                                                            \n",
              "2022-12-15 10:00:00 -3.226756  -7.121592   0.531032 -29.040688  \n",
              "2022-12-15 11:00:00 -0.307642  -7.015582  -6.014492 -45.789966  \n",
              "2022-12-15 12:00:00 -0.323146   6.402508   1.514480 -48.794594  \n",
              "2022-12-15 13:00:00  0.802740  -0.487884  15.834458 -61.563330  \n",
              "2022-12-15 14:00:00 -0.302225 -11.672199  -1.866293 -55.198633  \n",
              "2022-12-15 15:00:00 -0.294786 -11.674501  -1.846122 -54.967069  "
            ],
            "text/html": [
              "\n",
              "  <div id=\"df-11af6665-cad7-421c-b54f-48e2efdb9a63\">\n",
              "    <div class=\"colab-df-container\">\n",
              "      <div>\n",
              "<style scoped>\n",
              "    .dataframe tbody tr th:only-of-type {\n",
              "        vertical-align: middle;\n",
              "    }\n",
              "\n",
              "    .dataframe tbody tr th {\n",
              "        vertical-align: top;\n",
              "    }\n",
              "\n",
              "    .dataframe thead th {\n",
              "        text-align: right;\n",
              "    }\n",
              "</style>\n",
              "<table border=\"1\" class=\"dataframe\">\n",
              "  <thead>\n",
              "    <tr style=\"text-align: right;\">\n",
              "      <th></th>\n",
              "      <th>accel_x</th>\n",
              "      <th>accel_y</th>\n",
              "      <th>accel_z</th>\n",
              "      <th>gyro_x</th>\n",
              "      <th>gyro_y</th>\n",
              "      <th>gyro_z</th>\n",
              "      <th>mag_x</th>\n",
              "      <th>mag_y</th>\n",
              "      <th>mag_z</th>\n",
              "    </tr>\n",
              "    <tr>\n",
              "      <th>date</th>\n",
              "      <th></th>\n",
              "      <th></th>\n",
              "      <th></th>\n",
              "      <th></th>\n",
              "      <th></th>\n",
              "      <th></th>\n",
              "      <th></th>\n",
              "      <th></th>\n",
              "      <th></th>\n",
              "    </tr>\n",
              "  </thead>\n",
              "  <tbody>\n",
              "    <tr>\n",
              "      <th>2022-12-15 10:00:00</th>\n",
              "      <td>-0.320563</td>\n",
              "      <td>0.076382</td>\n",
              "      <td>0.579894</td>\n",
              "      <td>1.693323</td>\n",
              "      <td>-2.134076</td>\n",
              "      <td>-3.226756</td>\n",
              "      <td>-7.121592</td>\n",
              "      <td>0.531032</td>\n",
              "      <td>-29.040688</td>\n",
              "    </tr>\n",
              "    <tr>\n",
              "      <th>2022-12-15 11:00:00</th>\n",
              "      <td>0.002012</td>\n",
              "      <td>-0.000222</td>\n",
              "      <td>0.967131</td>\n",
              "      <td>-0.238344</td>\n",
              "      <td>-3.671893</td>\n",
              "      <td>-0.307642</td>\n",
              "      <td>-7.015582</td>\n",
              "      <td>-6.014492</td>\n",
              "      <td>-45.789966</td>\n",
              "    </tr>\n",
              "    <tr>\n",
              "      <th>2022-12-15 12:00:00</th>\n",
              "      <td>0.024788</td>\n",
              "      <td>-0.005139</td>\n",
              "      <td>0.977710</td>\n",
              "      <td>-0.122556</td>\n",
              "      <td>-3.427648</td>\n",
              "      <td>-0.323146</td>\n",
              "      <td>6.402508</td>\n",
              "      <td>1.514480</td>\n",
              "      <td>-48.794594</td>\n",
              "    </tr>\n",
              "    <tr>\n",
              "      <th>2022-12-15 13:00:00</th>\n",
              "      <td>0.024613</td>\n",
              "      <td>-0.036221</td>\n",
              "      <td>0.957138</td>\n",
              "      <td>-0.111117</td>\n",
              "      <td>-2.655848</td>\n",
              "      <td>0.802740</td>\n",
              "      <td>-0.487884</td>\n",
              "      <td>15.834458</td>\n",
              "      <td>-61.563330</td>\n",
              "    </tr>\n",
              "    <tr>\n",
              "      <th>2022-12-15 14:00:00</th>\n",
              "      <td>0.034497</td>\n",
              "      <td>-0.002453</td>\n",
              "      <td>0.990001</td>\n",
              "      <td>-0.259432</td>\n",
              "      <td>-3.520939</td>\n",
              "      <td>-0.302225</td>\n",
              "      <td>-11.672199</td>\n",
              "      <td>-1.866293</td>\n",
              "      <td>-55.198633</td>\n",
              "    </tr>\n",
              "    <tr>\n",
              "      <th>2022-12-15 15:00:00</th>\n",
              "      <td>0.033787</td>\n",
              "      <td>-0.003152</td>\n",
              "      <td>0.990052</td>\n",
              "      <td>-0.263113</td>\n",
              "      <td>-3.539105</td>\n",
              "      <td>-0.294786</td>\n",
              "      <td>-11.674501</td>\n",
              "      <td>-1.846122</td>\n",
              "      <td>-54.967069</td>\n",
              "    </tr>\n",
              "  </tbody>\n",
              "</table>\n",
              "</div>\n",
              "      <button class=\"colab-df-convert\" onclick=\"convertToInteractive('df-11af6665-cad7-421c-b54f-48e2efdb9a63')\"\n",
              "              title=\"Convert this dataframe to an interactive table.\"\n",
              "              style=\"display:none;\">\n",
              "        \n",
              "  <svg xmlns=\"http://www.w3.org/2000/svg\" height=\"24px\"viewBox=\"0 0 24 24\"\n",
              "       width=\"24px\">\n",
              "    <path d=\"M0 0h24v24H0V0z\" fill=\"none\"/>\n",
              "    <path d=\"M18.56 5.44l.94 2.06.94-2.06 2.06-.94-2.06-.94-.94-2.06-.94 2.06-2.06.94zm-11 1L8.5 8.5l.94-2.06 2.06-.94-2.06-.94L8.5 2.5l-.94 2.06-2.06.94zm10 10l.94 2.06.94-2.06 2.06-.94-2.06-.94-.94-2.06-.94 2.06-2.06.94z\"/><path d=\"M17.41 7.96l-1.37-1.37c-.4-.4-.92-.59-1.43-.59-.52 0-1.04.2-1.43.59L10.3 9.45l-7.72 7.72c-.78.78-.78 2.05 0 2.83L4 21.41c.39.39.9.59 1.41.59.51 0 1.02-.2 1.41-.59l7.78-7.78 2.81-2.81c.8-.78.8-2.07 0-2.86zM5.41 20L4 18.59l7.72-7.72 1.47 1.35L5.41 20z\"/>\n",
              "  </svg>\n",
              "      </button>\n",
              "      \n",
              "  <style>\n",
              "    .colab-df-container {\n",
              "      display:flex;\n",
              "      flex-wrap:wrap;\n",
              "      gap: 12px;\n",
              "    }\n",
              "\n",
              "    .colab-df-convert {\n",
              "      background-color: #E8F0FE;\n",
              "      border: none;\n",
              "      border-radius: 50%;\n",
              "      cursor: pointer;\n",
              "      display: none;\n",
              "      fill: #1967D2;\n",
              "      height: 32px;\n",
              "      padding: 0 0 0 0;\n",
              "      width: 32px;\n",
              "    }\n",
              "\n",
              "    .colab-df-convert:hover {\n",
              "      background-color: #E2EBFA;\n",
              "      box-shadow: 0px 1px 2px rgba(60, 64, 67, 0.3), 0px 1px 3px 1px rgba(60, 64, 67, 0.15);\n",
              "      fill: #174EA6;\n",
              "    }\n",
              "\n",
              "    [theme=dark] .colab-df-convert {\n",
              "      background-color: #3B4455;\n",
              "      fill: #D2E3FC;\n",
              "    }\n",
              "\n",
              "    [theme=dark] .colab-df-convert:hover {\n",
              "      background-color: #434B5C;\n",
              "      box-shadow: 0px 1px 3px 1px rgba(0, 0, 0, 0.15);\n",
              "      filter: drop-shadow(0px 1px 2px rgba(0, 0, 0, 0.3));\n",
              "      fill: #FFFFFF;\n",
              "    }\n",
              "  </style>\n",
              "\n",
              "      <script>\n",
              "        const buttonEl =\n",
              "          document.querySelector('#df-11af6665-cad7-421c-b54f-48e2efdb9a63 button.colab-df-convert');\n",
              "        buttonEl.style.display =\n",
              "          google.colab.kernel.accessAllowed ? 'block' : 'none';\n",
              "\n",
              "        async function convertToInteractive(key) {\n",
              "          const element = document.querySelector('#df-11af6665-cad7-421c-b54f-48e2efdb9a63');\n",
              "          const dataTable =\n",
              "            await google.colab.kernel.invokeFunction('convertToInteractive',\n",
              "                                                     [key], {});\n",
              "          if (!dataTable) return;\n",
              "\n",
              "          const docLinkHtml = 'Like what you see? Visit the ' +\n",
              "            '<a target=\"_blank\" href=https://colab.research.google.com/notebooks/data_table.ipynb>data table notebook</a>'\n",
              "            + ' to learn more about interactive tables.';\n",
              "          element.innerHTML = '';\n",
              "          dataTable['output_type'] = 'display_data';\n",
              "          await google.colab.output.renderOutput(dataTable, element);\n",
              "          const docLink = document.createElement('div');\n",
              "          docLink.innerHTML = docLinkHtml;\n",
              "          element.appendChild(docLink);\n",
              "        }\n",
              "      </script>\n",
              "    </div>\n",
              "  </div>\n",
              "  "
            ]
          },
          "metadata": {},
          "execution_count": 36
        }
      ]
    },
    {
      "cell_type": "code",
      "metadata": {
        "colab": {
          "base_uri": "https://localhost:8080/"
        },
        "id": "44z_H8_DPqIV",
        "outputId": "53ba8ff6-8122-47d8-c31d-01f18d2152a4"
      },
      "source": [
        "iot_data.resample('H').mean().shape, iot_data.resample('H').mean().info()"
      ],
      "execution_count": null,
      "outputs": [
        {
          "output_type": "stream",
          "name": "stdout",
          "text": [
            "<class 'pandas.core.frame.DataFrame'>\n",
            "DatetimeIndex: 6 entries, 2022-12-15 10:00:00 to 2022-12-15 15:00:00\n",
            "Freq: H\n",
            "Data columns (total 9 columns):\n",
            " #   Column   Non-Null Count  Dtype  \n",
            "---  ------   --------------  -----  \n",
            " 0   accel_x  6 non-null      float64\n",
            " 1   accel_y  6 non-null      float64\n",
            " 2   accel_z  6 non-null      float64\n",
            " 3   gyro_x   6 non-null      float64\n",
            " 4   gyro_y   6 non-null      float64\n",
            " 5   gyro_z   6 non-null      float64\n",
            " 6   mag_x    6 non-null      float64\n",
            " 7   mag_y    6 non-null      float64\n",
            " 8   mag_z    6 non-null      float64\n",
            "dtypes: float64(9)\n",
            "memory usage: 480.0 bytes\n"
          ]
        },
        {
          "output_type": "execute_result",
          "data": {
            "text/plain": [
              "((6, 9), None)"
            ]
          },
          "metadata": {},
          "execution_count": 37
        }
      ]
    },
    {
      "cell_type": "code",
      "metadata": {
        "colab": {
          "base_uri": "https://localhost:8080/",
          "height": 135
        },
        "id": "7zNu8qnxwl0Q",
        "outputId": "7c58af98-93b2-49b4-b832-cfe615f21b4e"
      },
      "source": [
        "#  Plot mean of the iot data per every hour \n",
        "iot_data.resample('H').mean().plot(figsize=(10,6), '-o'\n",
        "                                   title='Hourly change of all sensor data') #, \n",
        "                                #    ylim=[0,500])"
      ],
      "execution_count": null,
      "outputs": [
        {
          "output_type": "error",
          "ename": "SyntaxError",
          "evalue": "ignored",
          "traceback": [
            "\u001b[0;36m  File \u001b[0;32m\"<ipython-input-40-a0507f8b1f52>\"\u001b[0;36m, line \u001b[0;32m3\u001b[0m\n\u001b[0;31m    title='Hourly change of all sensor data') #,\u001b[0m\n\u001b[0m    ^\u001b[0m\n\u001b[0;31mSyntaxError\u001b[0m\u001b[0;31m:\u001b[0m invalid syntax\n"
          ]
        }
      ]
    },
    {
      "cell_type": "markdown",
      "source": [
        "### [DIY-6]  아래 코드를 참조해서 Az,Gz,Mz의 1 시간 평균값의 변화를 보여 주는 그래프를 그리시오."
      ],
      "metadata": {
        "id": "SF4Jmw4Zzy6v"
      }
    },
    {
      "cell_type": "code",
      "metadata": {
        "colab": {
          "base_uri": "https://localhost:8080/",
          "height": 422
        },
        "id": "QXDpqM0IMSho",
        "outputId": "5f1d5323-ba27-41d9-b5dc-1bb63ca2f1de"
      },
      "source": [
        "#  Plot mean of the iot data per every minute\n",
        "iot_data[['accel_z','gyro_z','mag_z']].resample('H').mean().plot(figsize=(10,6), \n",
        "                                    color = ['red', 'green', 'blue'],\n",
        "                                    title='Hourly change of Az, Gz, Mz')"
      ],
      "execution_count": null,
      "outputs": [
        {
          "output_type": "execute_result",
          "data": {
            "text/plain": [
              "<matplotlib.axes._subplots.AxesSubplot at 0x7fedc46a77c0>"
            ]
          },
          "metadata": {},
          "execution_count": 38
        },
        {
          "output_type": "display_data",
          "data": {
            "text/plain": [
              "<Figure size 720x432 with 1 Axes>"
            ],
            "image/png": "[encoded data removed]"
          },
          "metadata": {
            "needs_background": "light"
          }
        }
      ]
    },
    {
      "cell_type": "markdown",
      "source": [
        "### Good Job!  Have a great winter vacation!!!"
      ],
      "metadata": {
        "id": "_ZgNafGZ0fsV"
      }
    },
    {
      "cell_type": "markdown",
      "source": [
        "----"
      ],
      "metadata": {
        "id": "8BcJ8Xlz0tbd"
      }
    },
    {
      "cell_type": "code",
      "source": [],
      "metadata": {
        "id": "4mmCP2TU0u1T"
      },
      "execution_count": null,
      "outputs": []
    }
  ]
}